{
 "cells": [
  {
   "cell_type": "code",
   "execution_count": 1,
   "id": "7923df54",
   "metadata": {},
   "outputs": [],
   "source": [
    "from rosbag_to_dataframe import extract_data_from_bag\n",
    "import pandas as pd"
   ]
  },
  {
   "cell_type": "code",
   "execution_count": 2,
   "id": "d0fc8569",
   "metadata": {},
   "outputs": [
    {
     "data": {
      "application/vnd.microsoft.datawrangler.viewer.v0+json": {
       "columns": [
        {
         "name": "index",
         "rawType": "int64",
         "type": "integer"
        },
        {
         "name": "orientation_x",
         "rawType": "float64",
         "type": "float"
        },
        {
         "name": "orientation_y",
         "rawType": "float64",
         "type": "float"
        },
        {
         "name": "orientation_z",
         "rawType": "float64",
         "type": "float"
        },
        {
         "name": "orientation_w",
         "rawType": "float64",
         "type": "float"
        }
       ],
       "ref": "df7b2270-876d-4249-add7-95bdc4a0348a",
       "rows": [
        [
         "0",
         "-0.708435707890076",
         "0.016445355517616056",
         "0.7054389569755954",
         "0.014292517251003889"
        ],
        [
         "1",
         "0.7063888725422496",
         "-0.018912470743520288",
         "-0.7073003796863006",
         "-0.019576825444394458"
        ],
        [
         "2",
         "-0.707898362800019",
         "0.0233758153620022",
         "0.7055947485545848",
         "0.021668641245043863"
        ],
        [
         "3",
         "0.7059364192638554",
         "-0.02472586687898526",
         "-0.7073727439735725",
         "-0.025810938520466842"
        ],
        [
         "4",
         "-0.7076796392819725",
         "0.02830273085634788",
         "0.7054650725494165",
         "0.026599153833480327"
        ],
        [
         "5",
         "0.7058485596136792",
         "-0.029560991014302485",
         "-0.7070867277435013",
         "-0.03053388528396503"
        ],
        [
         "6",
         "-0.7072105548174537",
         "0.032591374375911586",
         "0.7055589362292802",
         "0.03126693106278167"
        ],
        [
         "7",
         "0.705807810794983",
         "-0.033332696148813346",
         "-0.7067946877267731",
         "-0.03413993247587921"
        ],
        [
         "8",
         "-0.70729338314239",
         "0.03741923268471278",
         "0.7050338992356",
         "0.03553972589829221"
        ],
        [
         "9",
         "0.705382573159372",
         "-0.03924305902539471",
         "-0.7065931495923985",
         "-0.040268210172379165"
        ],
        [
         "10",
         "-0.7069207078363808",
         "0.04320147135811375",
         "0.7047607534084666",
         "0.041340369612941213"
        ],
        [
         "11",
         "0.704799191847912",
         "-0.04683370591543248",
         "-0.7062244702851918",
         "-0.04808014903426802"
        ],
        [
         "12",
         "-0.7065684826271361",
         "0.05067433357790227",
         "0.704158015363218",
         "0.048524021619772095"
        ],
        [
         "13",
         "0.7047675173282428",
         "-0.051658369628049206",
         "-0.7056103771295252",
         "-0.05242284858232879"
        ],
        [
         "14",
         "-0.7061586819528658",
         "0.05599264050290814",
         "0.7037828788538378",
         "0.05379962401641378"
        ],
        [
         "15",
         "0.7043738858201305",
         "-0.05756184279491999",
         "-0.7050905551464423",
         "-0.058235489797755474"
        ],
        [
         "16",
         "-0.7058194472281512",
         "0.06169750495033452",
         "0.7032122793200873",
         "0.05920148655986618"
        ],
        [
         "17",
         "0.7043173352674164",
         "-0.0626998739782744",
         "-0.7043249346424714",
         "-0.06270728415258203"
        ],
        [
         "18",
         "-0.7052440483302244",
         "0.06750526563416068",
         "0.7027419098261032",
         "0.06502060888994118"
        ],
        [
         "19",
         "0.7038066623298407",
         "-0.06842550021065238",
         "-0.7037731923025001",
         "-0.0683917157073865"
        ],
        [
         "20",
         "0.7021904133099084",
         "-0.07043136545568005",
         "-0.7047229839214109",
         "-0.07303124090833532"
        ],
        [
         "21",
         "-0.7032540182180087",
         "0.07475611349984057",
         "0.703055987004298",
         "0.07454923535513858"
        ],
        [
         "22",
         "0.7015702370585907",
         "-0.07618657102947643",
         "-0.7041106039449049",
         "-0.07888641379011185"
        ],
        [
         "23",
         "-0.7025088709811933",
         "0.08019628532002462",
         "0.7025720199954104",
         "0.08026455465002358"
        ],
        [
         "24",
         "-0.7035365415177273",
         "0.08436840727425918",
         "0.7009130422435519",
         "0.08148137097624641"
        ],
        [
         "25",
         "0.7017165668096509",
         "-0.08570471394148363",
         "-0.7020280473875367",
         "-0.08605337038331518"
        ],
        [
         "26",
         "-0.7027977037582728",
         "0.08953939959173068",
         "0.70037703592164",
         "0.0867760973221845"
        ],
        [
         "27",
         "0.7012300211539143",
         "-0.09048563799172252",
         "-0.7013400676879107",
         "-0.09061410599475589"
        ],
        [
         "28",
         "-0.7021909369813234",
         "0.09383027175887476",
         "0.6998776573397992",
         "0.09107707109641452"
        ],
        [
         "29",
         "0.700232227834592",
         "-0.09547449714790562",
         "-0.700917284155467",
         "-0.09630372925428657"
        ],
        [
         "30",
         "-0.7013261168064732",
         "0.1007938623063247",
         "0.6988728844542856",
         "0.0977699676847324"
        ],
        [
         "31",
         "0.6991152137578072",
         "-0.10183159262802347",
         "-0.7001637522848585",
         "-0.10314535676220796"
        ],
        [
         "32",
         "-0.7002970156202106",
         "0.10692017597425693",
         "0.6980809147283333",
         "0.10409227817236932"
        ],
        [
         "33",
         "0.6983889937144172",
         "-0.1079911448083776",
         "-0.6990927049737339",
         "-0.10890415948919147"
        ],
        [
         "34",
         "-0.6993620370955528",
         "0.11263857895515719",
         "0.6972384055397266",
         "0.10983577486839771"
        ],
        [
         "35",
         "0.6975528755400137",
         "-0.11362378679419385",
         "-0.6981517085978624",
         "-0.11442819880733554"
        ],
        [
         "36",
         "-0.6983684001737616",
         "0.11792615352974606",
         "0.6964728326448459",
         "0.11532819837352809"
        ],
        [
         "37",
         "0.6969274170782311",
         "-0.11822986099889352",
         "-0.6972911207176516",
         "-0.11873907638671072"
        ],
        [
         "38",
         "-0.6975996776050304",
         "0.12168221513431285",
         "0.6959287928601763",
         "0.11929477605302952"
        ],
        [
         "39",
         "0.6960848987275463",
         "-0.12340899310441109",
         "-0.6963543334484661",
         "-0.12380095505269403"
        ],
        [
         "40",
         "-0.6963262637820959",
         "0.12770734212702292",
         "0.6949911754697689",
         "0.12572921360315317"
        ],
        [
         "41",
         "0.6944958933002657",
         "-0.12936802244998277",
         "-0.6955498143027697",
         "-0.13095733954165792"
        ],
        [
         "42",
         "-0.6950556983272604",
         "0.13441958701196258",
         "0.6937536948173816",
         "0.13241888754089842"
        ],
        [
         "43",
         "0.6933537947491593",
         "-0.1353885898789998",
         "-0.6943792221171798",
         "-0.1369961347245135"
        ],
        [
         "44",
         "-0.6939255618005399",
         "0.1402304086147288",
         "0.6926179519116301",
         "0.13814166594221236"
        ],
        [
         "45",
         "0.6922695635488625",
         "-0.14035037543909457",
         "-0.6934231959323617",
         "-0.14222831940553282"
        ],
        [
         "46",
         "-0.6929882491370819",
         "0.14474314337892916",
         "0.6917176344493939",
         "0.14263037262253425"
        ],
        [
         "47",
         "0.6916535081857198",
         "-0.14489603169397702",
         "-0.6923142538842146",
         "-0.14601896617380833"
        ],
        [
         "48",
         "-0.6919305237213336",
         "0.14894855076639854",
         "0.6909253405505189",
         "0.1472027627202023"
        ],
        [
         "49",
         "0.6903370872757393",
         "-0.15036736766543715",
         "-0.6911971156143562",
         "-0.1518911058601193"
        ]
       ],
       "shape": {
        "columns": 4,
        "rows": 192
       }
      },
      "text/html": [
       "<div>\n",
       "<style scoped>\n",
       "    .dataframe tbody tr th:only-of-type {\n",
       "        vertical-align: middle;\n",
       "    }\n",
       "\n",
       "    .dataframe tbody tr th {\n",
       "        vertical-align: top;\n",
       "    }\n",
       "\n",
       "    .dataframe thead th {\n",
       "        text-align: right;\n",
       "    }\n",
       "</style>\n",
       "<table border=\"1\" class=\"dataframe\">\n",
       "  <thead>\n",
       "    <tr style=\"text-align: right;\">\n",
       "      <th></th>\n",
       "      <th>orientation_x</th>\n",
       "      <th>orientation_y</th>\n",
       "      <th>orientation_z</th>\n",
       "      <th>orientation_w</th>\n",
       "    </tr>\n",
       "  </thead>\n",
       "  <tbody>\n",
       "    <tr>\n",
       "      <th>0</th>\n",
       "      <td>-0.708436</td>\n",
       "      <td>0.016445</td>\n",
       "      <td>0.705439</td>\n",
       "      <td>0.014293</td>\n",
       "    </tr>\n",
       "    <tr>\n",
       "      <th>1</th>\n",
       "      <td>0.706389</td>\n",
       "      <td>-0.018912</td>\n",
       "      <td>-0.707300</td>\n",
       "      <td>-0.019577</td>\n",
       "    </tr>\n",
       "    <tr>\n",
       "      <th>2</th>\n",
       "      <td>-0.707898</td>\n",
       "      <td>0.023376</td>\n",
       "      <td>0.705595</td>\n",
       "      <td>0.021669</td>\n",
       "    </tr>\n",
       "    <tr>\n",
       "      <th>3</th>\n",
       "      <td>0.705936</td>\n",
       "      <td>-0.024726</td>\n",
       "      <td>-0.707373</td>\n",
       "      <td>-0.025811</td>\n",
       "    </tr>\n",
       "    <tr>\n",
       "      <th>4</th>\n",
       "      <td>-0.707680</td>\n",
       "      <td>0.028303</td>\n",
       "      <td>0.705465</td>\n",
       "      <td>0.026599</td>\n",
       "    </tr>\n",
       "    <tr>\n",
       "      <th>...</th>\n",
       "      <td>...</td>\n",
       "      <td>...</td>\n",
       "      <td>...</td>\n",
       "      <td>...</td>\n",
       "    </tr>\n",
       "    <tr>\n",
       "      <th>187</th>\n",
       "      <td>-0.214102</td>\n",
       "      <td>0.673709</td>\n",
       "      <td>0.216690</td>\n",
       "      <td>0.673292</td>\n",
       "    </tr>\n",
       "    <tr>\n",
       "      <th>188</th>\n",
       "      <td>-0.217781</td>\n",
       "      <td>0.672810</td>\n",
       "      <td>0.216878</td>\n",
       "      <td>0.672951</td>\n",
       "    </tr>\n",
       "    <tr>\n",
       "      <th>189</th>\n",
       "      <td>-0.215980</td>\n",
       "      <td>0.673021</td>\n",
       "      <td>0.219395</td>\n",
       "      <td>0.672504</td>\n",
       "    </tr>\n",
       "    <tr>\n",
       "      <th>190</th>\n",
       "      <td>-0.218609</td>\n",
       "      <td>0.672553</td>\n",
       "      <td>0.217628</td>\n",
       "      <td>0.672697</td>\n",
       "    </tr>\n",
       "    <tr>\n",
       "      <th>191</th>\n",
       "      <td>-0.213930</td>\n",
       "      <td>0.673487</td>\n",
       "      <td>0.219363</td>\n",
       "      <td>0.672703</td>\n",
       "    </tr>\n",
       "  </tbody>\n",
       "</table>\n",
       "<p>192 rows × 4 columns</p>\n",
       "</div>"
      ],
      "text/plain": [
       "     orientation_x  orientation_y  orientation_z  orientation_w\n",
       "0        -0.708436       0.016445       0.705439       0.014293\n",
       "1         0.706389      -0.018912      -0.707300      -0.019577\n",
       "2        -0.707898       0.023376       0.705595       0.021669\n",
       "3         0.705936      -0.024726      -0.707373      -0.025811\n",
       "4        -0.707680       0.028303       0.705465       0.026599\n",
       "..             ...            ...            ...            ...\n",
       "187      -0.214102       0.673709       0.216690       0.673292\n",
       "188      -0.217781       0.672810       0.216878       0.672951\n",
       "189      -0.215980       0.673021       0.219395       0.672504\n",
       "190      -0.218609       0.672553       0.217628       0.672697\n",
       "191      -0.213930       0.673487       0.219363       0.672703\n",
       "\n",
       "[192 rows x 4 columns]"
      ]
     },
     "execution_count": 2,
     "metadata": {},
     "output_type": "execute_result"
    }
   ],
   "source": [
    "bag_files = ['waterlinked_dvl_05132025_1250']  # List of ROS bag files\n",
    "topic1 = '/rov/imu'  # Topic to extract data from\n",
    "fields1 = ['orientation']  # List of fields to extract from the message\n",
    "\n",
    "dataframe1 = extract_data_from_bag(bag_files, topic1, fields1)\n",
    "\n",
    "# Expand orientation column into separate x, y, z, w columns\n",
    "orientation_df = dataframe1['orientation'].apply(lambda q: pd.Series({\n",
    "    'orientation_x': q.x,\n",
    "    'orientation_y': q.y,\n",
    "    'orientation_z': q.z,\n",
    "    'orientation_w': q.w,\n",
    "}))\n",
    "\n",
    "# Combine with original DataFrame\n",
    "dataframe = pd.concat([dataframe1.drop(columns=['orientation']), orientation_df], axis=1)\n",
    "dataframe"
   ]
  },
  {
   "cell_type": "code",
   "execution_count": 3,
   "id": "9432d0a7",
   "metadata": {},
   "outputs": [
    {
     "data": {
      "application/vnd.microsoft.datawrangler.viewer.v0+json": {
       "columns": [
        {
         "name": "index",
         "rawType": "int64",
         "type": "integer"
        },
        {
         "name": "pose",
         "rawType": "object",
         "type": "unknown"
        },
        {
         "name": "x",
         "rawType": "float64",
         "type": "float"
        },
        {
         "name": "y",
         "rawType": "float64",
         "type": "float"
        },
        {
         "name": "z",
         "rawType": "float64",
         "type": "float"
        }
       ],
       "ref": "96d997d4-c2ee-4169-9c41-5c88f86675ba",
       "rows": [
        [
         "0",
         "geometry_msgs__msg__PoseWithCovariance(pose=geometry_msgs__msg__Pose(position=geometry_msgs__msg__Point(x=-125.30786486785559, y=61.456750641295606, z=99.21886367606018, __msgtype__='geometry_msgs/msg/Point'), orientation=geometry_msgs__msg__Quaternion(x=-0.026230629625082123, y=0.9151069010820715, z=0.23198669764197014, w=-0.32874532054253297, __msgtype__='geometry_msgs/msg/Quaternion'), __msgtype__='geometry_msgs/msg/Pose'), covariance=array([156.39458504,   0.        ,   0.        ,   0.        ,\n         0.        ,   0.        ,   0.        , 156.39458504,\n         0.        ,   0.        ,   0.        ,   0.        ,\n         0.        ,   0.        , 156.39458504,   0.        ,\n         0.        ,   0.        ,   0.        ,   0.        ,\n         0.        ,  -1.        ,   0.        ,   0.        ,\n         0.        ,   0.        ,   0.        ,   0.        ,\n        -1.        ,   0.        ,   0.        ,   0.        ,\n         0.        ,   0.        ,   0.        ,  -1.        ]), __msgtype__='geometry_msgs/msg/PoseWithCovariance')",
         "-125.30786486785559",
         "61.456750641295606",
         "99.21886367606018"
        ],
        [
         "1",
         "geometry_msgs__msg__PoseWithCovariance(pose=geometry_msgs__msg__Pose(position=geometry_msgs__msg__Point(x=-125.30786486785559, y=61.456750641295606, z=99.21886367606018, __msgtype__='geometry_msgs/msg/Point'), orientation=geometry_msgs__msg__Quaternion(x=-0.026230629625082123, y=0.9151069010820715, z=0.23198669764197014, w=-0.32874532054253297, __msgtype__='geometry_msgs/msg/Quaternion'), __msgtype__='geometry_msgs/msg/Pose'), covariance=array([156.39458504,   0.        ,   0.        ,   0.        ,\n         0.        ,   0.        ,   0.        , 156.39458504,\n         0.        ,   0.        ,   0.        ,   0.        ,\n         0.        ,   0.        , 156.39458504,   0.        ,\n         0.        ,   0.        ,   0.        ,   0.        ,\n         0.        ,  -1.        ,   0.        ,   0.        ,\n         0.        ,   0.        ,   0.        ,   0.        ,\n        -1.        ,   0.        ,   0.        ,   0.        ,\n         0.        ,   0.        ,   0.        ,  -1.        ]), __msgtype__='geometry_msgs/msg/PoseWithCovariance')",
         "-125.30786486785559",
         "61.456750641295606",
         "99.21886367606018"
        ],
        [
         "2",
         "geometry_msgs__msg__PoseWithCovariance(pose=geometry_msgs__msg__Pose(position=geometry_msgs__msg__Point(x=-125.30786486785559, y=61.456750641295606, z=99.21886367606018, __msgtype__='geometry_msgs/msg/Point'), orientation=geometry_msgs__msg__Quaternion(x=-0.026230629625082123, y=0.9151069010820715, z=0.23198669764197014, w=-0.32874532054253297, __msgtype__='geometry_msgs/msg/Quaternion'), __msgtype__='geometry_msgs/msg/Pose'), covariance=array([156.39458504,   0.        ,   0.        ,   0.        ,\n         0.        ,   0.        ,   0.        , 156.39458504,\n         0.        ,   0.        ,   0.        ,   0.        ,\n         0.        ,   0.        , 156.39458504,   0.        ,\n         0.        ,   0.        ,   0.        ,   0.        ,\n         0.        ,  -1.        ,   0.        ,   0.        ,\n         0.        ,   0.        ,   0.        ,   0.        ,\n        -1.        ,   0.        ,   0.        ,   0.        ,\n         0.        ,   0.        ,   0.        ,  -1.        ]), __msgtype__='geometry_msgs/msg/PoseWithCovariance')",
         "-125.30786486785559",
         "61.456750641295606",
         "99.21886367606018"
        ],
        [
         "3",
         "geometry_msgs__msg__PoseWithCovariance(pose=geometry_msgs__msg__Pose(position=geometry_msgs__msg__Point(x=-125.30786486785559, y=61.456750641295606, z=99.21886367606018, __msgtype__='geometry_msgs/msg/Point'), orientation=geometry_msgs__msg__Quaternion(x=-0.026230629625082123, y=0.9151069010820715, z=0.23198669764197014, w=-0.32874532054253297, __msgtype__='geometry_msgs/msg/Quaternion'), __msgtype__='geometry_msgs/msg/Pose'), covariance=array([156.39458504,   0.        ,   0.        ,   0.        ,\n         0.        ,   0.        ,   0.        , 156.39458504,\n         0.        ,   0.        ,   0.        ,   0.        ,\n         0.        ,   0.        , 156.39458504,   0.        ,\n         0.        ,   0.        ,   0.        ,   0.        ,\n         0.        ,  -1.        ,   0.        ,   0.        ,\n         0.        ,   0.        ,   0.        ,   0.        ,\n        -1.        ,   0.        ,   0.        ,   0.        ,\n         0.        ,   0.        ,   0.        ,  -1.        ]), __msgtype__='geometry_msgs/msg/PoseWithCovariance')",
         "-125.30786486785559",
         "61.456750641295606",
         "99.21886367606018"
        ],
        [
         "4",
         "geometry_msgs__msg__PoseWithCovariance(pose=geometry_msgs__msg__Pose(position=geometry_msgs__msg__Point(x=-125.30737599705128, y=61.456306141032215, z=99.21861470368538, __msgtype__='geometry_msgs/msg/Point'), orientation=geometry_msgs__msg__Quaternion(x=0.2699702493593392, y=0.8589213765114523, z=0.3925876921539871, w=-0.187736617104215, __msgtype__='geometry_msgs/msg/Quaternion'), __msgtype__='geometry_msgs/msg/Pose'), covariance=array([156.39458511,   0.        ,   0.        ,   0.        ,\n         0.        ,   0.        ,   0.        , 156.39458511,\n         0.        ,   0.        ,   0.        ,   0.        ,\n         0.        ,   0.        , 156.39458511,   0.        ,\n         0.        ,   0.        ,   0.        ,   0.        ,\n         0.        ,  -1.        ,   0.        ,   0.        ,\n         0.        ,   0.        ,   0.        ,   0.        ,\n        -1.        ,   0.        ,   0.        ,   0.        ,\n         0.        ,   0.        ,   0.        ,  -1.        ]), __msgtype__='geometry_msgs/msg/PoseWithCovariance')",
         "-125.30737599705128",
         "61.456306141032215",
         "99.21861470368538"
        ],
        [
         "5",
         "geometry_msgs__msg__PoseWithCovariance(pose=geometry_msgs__msg__Pose(position=geometry_msgs__msg__Point(x=-125.30737599705128, y=61.456306141032215, z=99.21861470368538, __msgtype__='geometry_msgs/msg/Point'), orientation=geometry_msgs__msg__Quaternion(x=0.2699702493593392, y=0.8589213765114523, z=0.3925876921539871, w=-0.187736617104215, __msgtype__='geometry_msgs/msg/Quaternion'), __msgtype__='geometry_msgs/msg/Pose'), covariance=array([156.39458511,   0.        ,   0.        ,   0.        ,\n         0.        ,   0.        ,   0.        , 156.39458511,\n         0.        ,   0.        ,   0.        ,   0.        ,\n         0.        ,   0.        , 156.39458511,   0.        ,\n         0.        ,   0.        ,   0.        ,   0.        ,\n         0.        ,  -1.        ,   0.        ,   0.        ,\n         0.        ,   0.        ,   0.        ,   0.        ,\n        -1.        ,   0.        ,   0.        ,   0.        ,\n         0.        ,   0.        ,   0.        ,  -1.        ]), __msgtype__='geometry_msgs/msg/PoseWithCovariance')",
         "-125.30737599705128",
         "61.456306141032215",
         "99.21861470368538"
        ],
        [
         "6",
         "geometry_msgs__msg__PoseWithCovariance(pose=geometry_msgs__msg__Pose(position=geometry_msgs__msg__Point(x=-125.30737599705128, y=61.456306141032215, z=99.21861470368538, __msgtype__='geometry_msgs/msg/Point'), orientation=geometry_msgs__msg__Quaternion(x=0.2699702493593392, y=0.8589213765114523, z=0.3925876921539871, w=-0.187736617104215, __msgtype__='geometry_msgs/msg/Quaternion'), __msgtype__='geometry_msgs/msg/Pose'), covariance=array([156.39458511,   0.        ,   0.        ,   0.        ,\n         0.        ,   0.        ,   0.        , 156.39458511,\n         0.        ,   0.        ,   0.        ,   0.        ,\n         0.        ,   0.        , 156.39458511,   0.        ,\n         0.        ,   0.        ,   0.        ,   0.        ,\n         0.        ,  -1.        ,   0.        ,   0.        ,\n         0.        ,   0.        ,   0.        ,   0.        ,\n        -1.        ,   0.        ,   0.        ,   0.        ,\n         0.        ,   0.        ,   0.        ,  -1.        ]), __msgtype__='geometry_msgs/msg/PoseWithCovariance')",
         "-125.30737599705128",
         "61.456306141032215",
         "99.21861470368538"
        ],
        [
         "7",
         "geometry_msgs__msg__PoseWithCovariance(pose=geometry_msgs__msg__Pose(position=geometry_msgs__msg__Point(x=-125.30737599705128, y=61.456306141032215, z=99.21861470368538, __msgtype__='geometry_msgs/msg/Point'), orientation=geometry_msgs__msg__Quaternion(x=0.2699702493593392, y=0.8589213765114523, z=0.3925876921539871, w=-0.187736617104215, __msgtype__='geometry_msgs/msg/Quaternion'), __msgtype__='geometry_msgs/msg/Pose'), covariance=array([156.39458511,   0.        ,   0.        ,   0.        ,\n         0.        ,   0.        ,   0.        , 156.39458511,\n         0.        ,   0.        ,   0.        ,   0.        ,\n         0.        ,   0.        , 156.39458511,   0.        ,\n         0.        ,   0.        ,   0.        ,   0.        ,\n         0.        ,  -1.        ,   0.        ,   0.        ,\n         0.        ,   0.        ,   0.        ,   0.        ,\n        -1.        ,   0.        ,   0.        ,   0.        ,\n         0.        ,   0.        ,   0.        ,  -1.        ]), __msgtype__='geometry_msgs/msg/PoseWithCovariance')",
         "-125.30737599705128",
         "61.456306141032215",
         "99.21861470368538"
        ],
        [
         "8",
         "geometry_msgs__msg__PoseWithCovariance(pose=geometry_msgs__msg__Pose(position=geometry_msgs__msg__Point(x=-125.30699850270338, y=61.455925994743986, z=99.21838378584525, __msgtype__='geometry_msgs/msg/Point'), orientation=geometry_msgs__msg__Quaternion(x=0.5250822237170693, y=0.7272716368744407, z=0.441788519099533, w=0.013694120130586006, __msgtype__='geometry_msgs/msg/Quaternion'), __msgtype__='geometry_msgs/msg/Pose'), covariance=array([156.39458517,   0.        ,   0.        ,   0.        ,\n         0.        ,   0.        ,   0.        , 156.39458517,\n         0.        ,   0.        ,   0.        ,   0.        ,\n         0.        ,   0.        , 156.39458517,   0.        ,\n         0.        ,   0.        ,   0.        ,   0.        ,\n         0.        ,  -1.        ,   0.        ,   0.        ,\n         0.        ,   0.        ,   0.        ,   0.        ,\n        -1.        ,   0.        ,   0.        ,   0.        ,\n         0.        ,   0.        ,   0.        ,  -1.        ]), __msgtype__='geometry_msgs/msg/PoseWithCovariance')",
         "-125.30699850270338",
         "61.455925994743986",
         "99.21838378584525"
        ],
        [
         "9",
         "geometry_msgs__msg__PoseWithCovariance(pose=geometry_msgs__msg__Pose(position=geometry_msgs__msg__Point(x=-125.30699850270338, y=61.455925994743986, z=99.21838378584525, __msgtype__='geometry_msgs/msg/Point'), orientation=geometry_msgs__msg__Quaternion(x=0.5250822237170693, y=0.7272716368744407, z=0.441788519099533, w=0.013694120130586006, __msgtype__='geometry_msgs/msg/Quaternion'), __msgtype__='geometry_msgs/msg/Pose'), covariance=array([156.39458517,   0.        ,   0.        ,   0.        ,\n         0.        ,   0.        ,   0.        , 156.39458517,\n         0.        ,   0.        ,   0.        ,   0.        ,\n         0.        ,   0.        , 156.39458517,   0.        ,\n         0.        ,   0.        ,   0.        ,   0.        ,\n         0.        ,  -1.        ,   0.        ,   0.        ,\n         0.        ,   0.        ,   0.        ,   0.        ,\n        -1.        ,   0.        ,   0.        ,   0.        ,\n         0.        ,   0.        ,   0.        ,  -1.        ]), __msgtype__='geometry_msgs/msg/PoseWithCovariance')",
         "-125.30699850270338",
         "61.455925994743986",
         "99.21838378584525"
        ],
        [
         "10",
         "geometry_msgs__msg__PoseWithCovariance(pose=geometry_msgs__msg__Pose(position=geometry_msgs__msg__Point(x=-125.30699850270338, y=61.455925994743986, z=99.21838378584525, __msgtype__='geometry_msgs/msg/Point'), orientation=geometry_msgs__msg__Quaternion(x=0.5250822237170693, y=0.7272716368744407, z=0.441788519099533, w=0.013694120130586006, __msgtype__='geometry_msgs/msg/Quaternion'), __msgtype__='geometry_msgs/msg/Pose'), covariance=array([156.39458517,   0.        ,   0.        ,   0.        ,\n         0.        ,   0.        ,   0.        , 156.39458517,\n         0.        ,   0.        ,   0.        ,   0.        ,\n         0.        ,   0.        , 156.39458517,   0.        ,\n         0.        ,   0.        ,   0.        ,   0.        ,\n         0.        ,  -1.        ,   0.        ,   0.        ,\n         0.        ,   0.        ,   0.        ,   0.        ,\n        -1.        ,   0.        ,   0.        ,   0.        ,\n         0.        ,   0.        ,   0.        ,  -1.        ]), __msgtype__='geometry_msgs/msg/PoseWithCovariance')",
         "-125.30699850270338",
         "61.455925994743986",
         "99.21838378584525"
        ],
        [
         "11",
         "geometry_msgs__msg__PoseWithCovariance(pose=geometry_msgs__msg__Pose(position=geometry_msgs__msg__Point(x=-125.30699850270338, y=61.455925994743986, z=99.21838378584525, __msgtype__='geometry_msgs/msg/Point'), orientation=geometry_msgs__msg__Quaternion(x=0.5250822237170693, y=0.7272716368744407, z=0.441788519099533, w=0.013694120130586006, __msgtype__='geometry_msgs/msg/Quaternion'), __msgtype__='geometry_msgs/msg/Pose'), covariance=array([156.39458517,   0.        ,   0.        ,   0.        ,\n         0.        ,   0.        ,   0.        , 156.39458517,\n         0.        ,   0.        ,   0.        ,   0.        ,\n         0.        ,   0.        , 156.39458517,   0.        ,\n         0.        ,   0.        ,   0.        ,   0.        ,\n         0.        ,  -1.        ,   0.        ,   0.        ,\n         0.        ,   0.        ,   0.        ,   0.        ,\n        -1.        ,   0.        ,   0.        ,   0.        ,\n         0.        ,   0.        ,   0.        ,  -1.        ]), __msgtype__='geometry_msgs/msg/PoseWithCovariance')",
         "-125.30699850270338",
         "61.455925994743986",
         "99.21838378584525"
        ],
        [
         "12",
         "geometry_msgs__msg__PoseWithCovariance(pose=geometry_msgs__msg__Pose(position=geometry_msgs__msg__Point(x=-125.30675103038264, y=61.45569092080266, z=99.21827758577187, __msgtype__='geometry_msgs/msg/Point'), orientation=geometry_msgs__msg__Quaternion(x=0.7054127337116042, y=0.494773116407465, z=0.44849564420176746, w=0.23757966144013254, __msgtype__='geometry_msgs/msg/Quaternion'), __msgtype__='geometry_msgs/msg/Pose'), covariance=array([156.39458525,   0.        ,   0.        ,   0.        ,\n         0.        ,   0.        ,   0.        , 156.39458525,\n         0.        ,   0.        ,   0.        ,   0.        ,\n         0.        ,   0.        , 156.39458525,   0.        ,\n         0.        ,   0.        ,   0.        ,   0.        ,\n         0.        ,  -1.        ,   0.        ,   0.        ,\n         0.        ,   0.        ,   0.        ,   0.        ,\n        -1.        ,   0.        ,   0.        ,   0.        ,\n         0.        ,   0.        ,   0.        ,  -1.        ]), __msgtype__='geometry_msgs/msg/PoseWithCovariance')",
         "-125.30675103038264",
         "61.45569092080266",
         "99.21827758577187"
        ],
        [
         "13",
         "geometry_msgs__msg__PoseWithCovariance(pose=geometry_msgs__msg__Pose(position=geometry_msgs__msg__Point(x=-125.30675103038264, y=61.45569092080266, z=99.21827758577187, __msgtype__='geometry_msgs/msg/Point'), orientation=geometry_msgs__msg__Quaternion(x=0.7054127337116042, y=0.494773116407465, z=0.44849564420176746, w=0.23757966144013254, __msgtype__='geometry_msgs/msg/Quaternion'), __msgtype__='geometry_msgs/msg/Pose'), covariance=array([156.39458525,   0.        ,   0.        ,   0.        ,\n         0.        ,   0.        ,   0.        , 156.39458525,\n         0.        ,   0.        ,   0.        ,   0.        ,\n         0.        ,   0.        , 156.39458525,   0.        ,\n         0.        ,   0.        ,   0.        ,   0.        ,\n         0.        ,  -1.        ,   0.        ,   0.        ,\n         0.        ,   0.        ,   0.        ,   0.        ,\n        -1.        ,   0.        ,   0.        ,   0.        ,\n         0.        ,   0.        ,   0.        ,  -1.        ]), __msgtype__='geometry_msgs/msg/PoseWithCovariance')",
         "-125.30675103038264",
         "61.45569092080266",
         "99.21827758577187"
        ],
        [
         "14",
         "geometry_msgs__msg__PoseWithCovariance(pose=geometry_msgs__msg__Pose(position=geometry_msgs__msg__Point(x=-125.30675103038264, y=61.45569092080266, z=99.21827758577187, __msgtype__='geometry_msgs/msg/Point'), orientation=geometry_msgs__msg__Quaternion(x=0.7054127337116042, y=0.494773116407465, z=0.44849564420176746, w=0.23757966144013254, __msgtype__='geometry_msgs/msg/Quaternion'), __msgtype__='geometry_msgs/msg/Pose'), covariance=array([156.39458525,   0.        ,   0.        ,   0.        ,\n         0.        ,   0.        ,   0.        , 156.39458525,\n         0.        ,   0.        ,   0.        ,   0.        ,\n         0.        ,   0.        , 156.39458525,   0.        ,\n         0.        ,   0.        ,   0.        ,   0.        ,\n         0.        ,  -1.        ,   0.        ,   0.        ,\n         0.        ,   0.        ,   0.        ,   0.        ,\n        -1.        ,   0.        ,   0.        ,   0.        ,\n         0.        ,   0.        ,   0.        ,  -1.        ]), __msgtype__='geometry_msgs/msg/PoseWithCovariance')",
         "-125.30675103038264",
         "61.45569092080266",
         "99.21827758577187"
        ],
        [
         "15",
         "geometry_msgs__msg__PoseWithCovariance(pose=geometry_msgs__msg__Pose(position=geometry_msgs__msg__Point(x=-125.30675103038264, y=61.45569092080266, z=99.21827758577187, __msgtype__='geometry_msgs/msg/Point'), orientation=geometry_msgs__msg__Quaternion(x=0.7054127337116042, y=0.494773116407465, z=0.44849564420176746, w=0.23757966144013254, __msgtype__='geometry_msgs/msg/Quaternion'), __msgtype__='geometry_msgs/msg/Pose'), covariance=array([156.39458525,   0.        ,   0.        ,   0.        ,\n         0.        ,   0.        ,   0.        , 156.39458525,\n         0.        ,   0.        ,   0.        ,   0.        ,\n         0.        ,   0.        , 156.39458525,   0.        ,\n         0.        ,   0.        ,   0.        ,   0.        ,\n         0.        ,  -1.        ,   0.        ,   0.        ,\n         0.        ,   0.        ,   0.        ,   0.        ,\n        -1.        ,   0.        ,   0.        ,   0.        ,\n         0.        ,   0.        ,   0.        ,  -1.        ]), __msgtype__='geometry_msgs/msg/PoseWithCovariance')",
         "-125.30675103038264",
         "61.45569092080266",
         "99.21827758577187"
        ],
        [
         "16",
         "geometry_msgs__msg__PoseWithCovariance(pose=geometry_msgs__msg__Pose(position=geometry_msgs__msg__Point(x=-125.30648591945652, y=61.45533244093124, z=99.21827023877235, __msgtype__='geometry_msgs/msg/Point'), orientation=geometry_msgs__msg__Quaternion(x=0.7833441263200379, y=0.22812048631544465, z=0.34627018280133876, w=0.4630658527529632, __msgtype__='geometry_msgs/msg/Quaternion'), __msgtype__='geometry_msgs/msg/Pose'), covariance=array([156.3945853,   0.       ,   0.       ,   0.       ,   0.       ,\n         0.       ,   0.       , 156.3945853,   0.       ,   0.       ,\n         0.       ,   0.       ,   0.       ,   0.       , 156.3945853,\n         0.       ,   0.       ,   0.       ,   0.       ,   0.       ,\n         0.       ,  -1.       ,   0.       ,   0.       ,   0.       ,\n         0.       ,   0.       ,   0.       ,  -1.       ,   0.       ,\n         0.       ,   0.       ,   0.       ,   0.       ,   0.       ,\n        -1.       ]), __msgtype__='geometry_msgs/msg/PoseWithCovariance')",
         "-125.30648591945652",
         "61.45533244093124",
         "99.21827023877235"
        ],
        [
         "17",
         "geometry_msgs__msg__PoseWithCovariance(pose=geometry_msgs__msg__Pose(position=geometry_msgs__msg__Point(x=-125.30648591945652, y=61.45533244093124, z=99.21827023877235, __msgtype__='geometry_msgs/msg/Point'), orientation=geometry_msgs__msg__Quaternion(x=0.7833441263200379, y=0.22812048631544465, z=0.34627018280133876, w=0.4630658527529632, __msgtype__='geometry_msgs/msg/Quaternion'), __msgtype__='geometry_msgs/msg/Pose'), covariance=array([156.3945853,   0.       ,   0.       ,   0.       ,   0.       ,\n         0.       ,   0.       , 156.3945853,   0.       ,   0.       ,\n         0.       ,   0.       ,   0.       ,   0.       , 156.3945853,\n         0.       ,   0.       ,   0.       ,   0.       ,   0.       ,\n         0.       ,  -1.       ,   0.       ,   0.       ,   0.       ,\n         0.       ,   0.       ,   0.       ,  -1.       ,   0.       ,\n         0.       ,   0.       ,   0.       ,   0.       ,   0.       ,\n        -1.       ]), __msgtype__='geometry_msgs/msg/PoseWithCovariance')",
         "-125.30648591945652",
         "61.45533244093124",
         "99.21827023877235"
        ],
        [
         "18",
         "geometry_msgs__msg__PoseWithCovariance(pose=geometry_msgs__msg__Pose(position=geometry_msgs__msg__Point(x=-125.30648591945652, y=61.45533244093124, z=99.21827023877235, __msgtype__='geometry_msgs/msg/Point'), orientation=geometry_msgs__msg__Quaternion(x=0.7833441263200379, y=0.22812048631544465, z=0.34627018280133876, w=0.4630658527529632, __msgtype__='geometry_msgs/msg/Quaternion'), __msgtype__='geometry_msgs/msg/Pose'), covariance=array([156.3945853,   0.       ,   0.       ,   0.       ,   0.       ,\n         0.       ,   0.       , 156.3945853,   0.       ,   0.       ,\n         0.       ,   0.       ,   0.       ,   0.       , 156.3945853,\n         0.       ,   0.       ,   0.       ,   0.       ,   0.       ,\n         0.       ,  -1.       ,   0.       ,   0.       ,   0.       ,\n         0.       ,   0.       ,   0.       ,  -1.       ,   0.       ,\n         0.       ,   0.       ,   0.       ,   0.       ,   0.       ,\n        -1.       ]), __msgtype__='geometry_msgs/msg/PoseWithCovariance')",
         "-125.30648591945652",
         "61.45533244093124",
         "99.21827023877235"
        ],
        [
         "19",
         "geometry_msgs__msg__PoseWithCovariance(pose=geometry_msgs__msg__Pose(position=geometry_msgs__msg__Point(x=-125.30648591945652, y=61.45533244093124, z=99.21827023877235, __msgtype__='geometry_msgs/msg/Point'), orientation=geometry_msgs__msg__Quaternion(x=0.7833441263200379, y=0.22812048631544465, z=0.34627018280133876, w=0.4630658527529632, __msgtype__='geometry_msgs/msg/Quaternion'), __msgtype__='geometry_msgs/msg/Pose'), covariance=array([156.3945853,   0.       ,   0.       ,   0.       ,   0.       ,\n         0.       ,   0.       , 156.3945853,   0.       ,   0.       ,\n         0.       ,   0.       ,   0.       ,   0.       , 156.3945853,\n         0.       ,   0.       ,   0.       ,   0.       ,   0.       ,\n         0.       ,  -1.       ,   0.       ,   0.       ,   0.       ,\n         0.       ,   0.       ,   0.       ,  -1.       ,   0.       ,\n         0.       ,   0.       ,   0.       ,   0.       ,   0.       ,\n        -1.       ]), __msgtype__='geometry_msgs/msg/PoseWithCovariance')",
         "-125.30648591945652",
         "61.45533244093124",
         "99.21827023877235"
        ],
        [
         "20",
         "geometry_msgs__msg__PoseWithCovariance(pose=geometry_msgs__msg__Pose(position=geometry_msgs__msg__Point(x=-125.30616397695235, y=61.45501134117053, z=99.2180589654251, __msgtype__='geometry_msgs/msg/Point'), orientation=geometry_msgs__msg__Quaternion(x=0.7577318252252484, y=-0.02802788316626729, z=0.15822926994797926, w=0.632471672834255, __msgtype__='geometry_msgs/msg/Quaternion'), __msgtype__='geometry_msgs/msg/Pose'), covariance=array([156.39458536,   0.        ,   0.        ,   0.        ,\n         0.        ,   0.        ,   0.        , 156.39458536,\n         0.        ,   0.        ,   0.        ,   0.        ,\n         0.        ,   0.        , 156.39458536,   0.        ,\n         0.        ,   0.        ,   0.        ,   0.        ,\n         0.        ,  -1.        ,   0.        ,   0.        ,\n         0.        ,   0.        ,   0.        ,   0.        ,\n        -1.        ,   0.        ,   0.        ,   0.        ,\n         0.        ,   0.        ,   0.        ,  -1.        ]), __msgtype__='geometry_msgs/msg/PoseWithCovariance')",
         "-125.30616397695235",
         "61.45501134117053",
         "99.2180589654251"
        ],
        [
         "21",
         "geometry_msgs__msg__PoseWithCovariance(pose=geometry_msgs__msg__Pose(position=geometry_msgs__msg__Point(x=-125.30616397695235, y=61.45501134117053, z=99.2180589654251, __msgtype__='geometry_msgs/msg/Point'), orientation=geometry_msgs__msg__Quaternion(x=0.7577318252252484, y=-0.02802788316626729, z=0.15822926994797926, w=0.632471672834255, __msgtype__='geometry_msgs/msg/Quaternion'), __msgtype__='geometry_msgs/msg/Pose'), covariance=array([156.39458536,   0.        ,   0.        ,   0.        ,\n         0.        ,   0.        ,   0.        , 156.39458536,\n         0.        ,   0.        ,   0.        ,   0.        ,\n         0.        ,   0.        , 156.39458536,   0.        ,\n         0.        ,   0.        ,   0.        ,   0.        ,\n         0.        ,  -1.        ,   0.        ,   0.        ,\n         0.        ,   0.        ,   0.        ,   0.        ,\n        -1.        ,   0.        ,   0.        ,   0.        ,\n         0.        ,   0.        ,   0.        ,  -1.        ]), __msgtype__='geometry_msgs/msg/PoseWithCovariance')",
         "-125.30616397695235",
         "61.45501134117053",
         "99.2180589654251"
        ],
        [
         "22",
         "geometry_msgs__msg__PoseWithCovariance(pose=geometry_msgs__msg__Pose(position=geometry_msgs__msg__Point(x=-125.30616397695235, y=61.45501134117053, z=99.2180589654251, __msgtype__='geometry_msgs/msg/Point'), orientation=geometry_msgs__msg__Quaternion(x=0.7577318252252484, y=-0.02802788316626729, z=0.15822926994797926, w=0.632471672834255, __msgtype__='geometry_msgs/msg/Quaternion'), __msgtype__='geometry_msgs/msg/Pose'), covariance=array([156.39458536,   0.        ,   0.        ,   0.        ,\n         0.        ,   0.        ,   0.        , 156.39458536,\n         0.        ,   0.        ,   0.        ,   0.        ,\n         0.        ,   0.        , 156.39458536,   0.        ,\n         0.        ,   0.        ,   0.        ,   0.        ,\n         0.        ,  -1.        ,   0.        ,   0.        ,\n         0.        ,   0.        ,   0.        ,   0.        ,\n        -1.        ,   0.        ,   0.        ,   0.        ,\n         0.        ,   0.        ,   0.        ,  -1.        ]), __msgtype__='geometry_msgs/msg/PoseWithCovariance')",
         "-125.30616397695235",
         "61.45501134117053",
         "99.2180589654251"
        ],
        [
         "23",
         "geometry_msgs__msg__PoseWithCovariance(pose=geometry_msgs__msg__Pose(position=geometry_msgs__msg__Point(x=-125.30616397695235, y=61.45501134117053, z=99.2180589654251, __msgtype__='geometry_msgs/msg/Point'), orientation=geometry_msgs__msg__Quaternion(x=0.7577318252252484, y=-0.02802788316626729, z=0.15822926994797926, w=0.632471672834255, __msgtype__='geometry_msgs/msg/Quaternion'), __msgtype__='geometry_msgs/msg/Pose'), covariance=array([156.39458536,   0.        ,   0.        ,   0.        ,\n         0.        ,   0.        ,   0.        , 156.39458536,\n         0.        ,   0.        ,   0.        ,   0.        ,\n         0.        ,   0.        , 156.39458536,   0.        ,\n         0.        ,   0.        ,   0.        ,   0.        ,\n         0.        ,  -1.        ,   0.        ,   0.        ,\n         0.        ,   0.        ,   0.        ,   0.        ,\n        -1.        ,   0.        ,   0.        ,   0.        ,\n         0.        ,   0.        ,   0.        ,  -1.        ]), __msgtype__='geometry_msgs/msg/PoseWithCovariance')",
         "-125.30616397695235",
         "61.45501134117053",
         "99.2180589654251"
        ],
        [
         "24",
         "geometry_msgs__msg__PoseWithCovariance(pose=geometry_msgs__msg__Pose(position=geometry_msgs__msg__Point(x=-125.30601514242214, y=61.45487552815634, z=99.21776937085892, __msgtype__='geometry_msgs/msg/Point'), orientation=geometry_msgs__msg__Quaternion(x=0.6866986785555323, y=-0.24574006284886046, z=-0.0774272277865093, w=0.6797512565478786, __msgtype__='geometry_msgs/msg/Quaternion'), __msgtype__='geometry_msgs/msg/Pose'), covariance=array([156.39458542,   0.        ,   0.        ,   0.        ,\n         0.        ,   0.        ,   0.        , 156.39458542,\n         0.        ,   0.        ,   0.        ,   0.        ,\n         0.        ,   0.        , 156.39458542,   0.        ,\n         0.        ,   0.        ,   0.        ,   0.        ,\n         0.        ,  -1.        ,   0.        ,   0.        ,\n         0.        ,   0.        ,   0.        ,   0.        ,\n        -1.        ,   0.        ,   0.        ,   0.        ,\n         0.        ,   0.        ,   0.        ,  -1.        ]), __msgtype__='geometry_msgs/msg/PoseWithCovariance')",
         "-125.30601514242214",
         "61.45487552815634",
         "99.21776937085892"
        ],
        [
         "25",
         "geometry_msgs__msg__PoseWithCovariance(pose=geometry_msgs__msg__Pose(position=geometry_msgs__msg__Point(x=-125.30601514242214, y=61.45487552815634, z=99.21776937085892, __msgtype__='geometry_msgs/msg/Point'), orientation=geometry_msgs__msg__Quaternion(x=0.6866986785555323, y=-0.24574006284886046, z=-0.0774272277865093, w=0.6797512565478786, __msgtype__='geometry_msgs/msg/Quaternion'), __msgtype__='geometry_msgs/msg/Pose'), covariance=array([156.39458542,   0.        ,   0.        ,   0.        ,\n         0.        ,   0.        ,   0.        , 156.39458542,\n         0.        ,   0.        ,   0.        ,   0.        ,\n         0.        ,   0.        , 156.39458542,   0.        ,\n         0.        ,   0.        ,   0.        ,   0.        ,\n         0.        ,  -1.        ,   0.        ,   0.        ,\n         0.        ,   0.        ,   0.        ,   0.        ,\n        -1.        ,   0.        ,   0.        ,   0.        ,\n         0.        ,   0.        ,   0.        ,  -1.        ]), __msgtype__='geometry_msgs/msg/PoseWithCovariance')",
         "-125.30601514242214",
         "61.45487552815634",
         "99.21776937085892"
        ],
        [
         "26",
         "geometry_msgs__msg__PoseWithCovariance(pose=geometry_msgs__msg__Pose(position=geometry_msgs__msg__Point(x=-125.30601514242214, y=61.45487552815634, z=99.21776937085892, __msgtype__='geometry_msgs/msg/Point'), orientation=geometry_msgs__msg__Quaternion(x=0.6866986785555323, y=-0.24574006284886046, z=-0.0774272277865093, w=0.6797512565478786, __msgtype__='geometry_msgs/msg/Quaternion'), __msgtype__='geometry_msgs/msg/Pose'), covariance=array([156.39458542,   0.        ,   0.        ,   0.        ,\n         0.        ,   0.        ,   0.        , 156.39458542,\n         0.        ,   0.        ,   0.        ,   0.        ,\n         0.        ,   0.        , 156.39458542,   0.        ,\n         0.        ,   0.        ,   0.        ,   0.        ,\n         0.        ,  -1.        ,   0.        ,   0.        ,\n         0.        ,   0.        ,   0.        ,   0.        ,\n        -1.        ,   0.        ,   0.        ,   0.        ,\n         0.        ,   0.        ,   0.        ,  -1.        ]), __msgtype__='geometry_msgs/msg/PoseWithCovariance')",
         "-125.30601514242214",
         "61.45487552815634",
         "99.21776937085892"
        ],
        [
         "27",
         "geometry_msgs__msg__PoseWithCovariance(pose=geometry_msgs__msg__Pose(position=geometry_msgs__msg__Point(x=-125.30601514242214, y=61.45487552815634, z=99.21776937085892, __msgtype__='geometry_msgs/msg/Point'), orientation=geometry_msgs__msg__Quaternion(x=0.6866986785555323, y=-0.24574006284886046, z=-0.0774272277865093, w=0.6797512565478786, __msgtype__='geometry_msgs/msg/Quaternion'), __msgtype__='geometry_msgs/msg/Pose'), covariance=array([156.39458542,   0.        ,   0.        ,   0.        ,\n         0.        ,   0.        ,   0.        , 156.39458542,\n         0.        ,   0.        ,   0.        ,   0.        ,\n         0.        ,   0.        , 156.39458542,   0.        ,\n         0.        ,   0.        ,   0.        ,   0.        ,\n         0.        ,  -1.        ,   0.        ,   0.        ,\n         0.        ,   0.        ,   0.        ,   0.        ,\n        -1.        ,   0.        ,   0.        ,   0.        ,\n         0.        ,   0.        ,   0.        ,  -1.        ]), __msgtype__='geometry_msgs/msg/PoseWithCovariance')",
         "-125.30601514242214",
         "61.45487552815634",
         "99.21776937085892"
        ],
        [
         "28",
         "geometry_msgs__msg__PoseWithCovariance(pose=geometry_msgs__msg__Pose(position=geometry_msgs__msg__Point(x=-125.30571244113976, y=61.45453065114887, z=99.21764485088524, __msgtype__='geometry_msgs/msg/Point'), orientation=geometry_msgs__msg__Quaternion(x=0.5321555053084824, y=-0.4163575624550942, z=-0.3290351560104191, w=0.659691416092043, __msgtype__='geometry_msgs/msg/Quaternion'), __msgtype__='geometry_msgs/msg/Pose'), covariance=array([156.3945855,   0.       ,   0.       ,   0.       ,   0.       ,\n         0.       ,   0.       , 156.3945855,   0.       ,   0.       ,\n         0.       ,   0.       ,   0.       ,   0.       , 156.3945855,\n         0.       ,   0.       ,   0.       ,   0.       ,   0.       ,\n         0.       ,  -1.       ,   0.       ,   0.       ,   0.       ,\n         0.       ,   0.       ,   0.       ,  -1.       ,   0.       ,\n         0.       ,   0.       ,   0.       ,   0.       ,   0.       ,\n        -1.       ]), __msgtype__='geometry_msgs/msg/PoseWithCovariance')",
         "-125.30571244113976",
         "61.45453065114887",
         "99.21764485088524"
        ],
        [
         "29",
         "geometry_msgs__msg__PoseWithCovariance(pose=geometry_msgs__msg__Pose(position=geometry_msgs__msg__Point(x=-125.30571244113976, y=61.45453065114887, z=99.21764485088524, __msgtype__='geometry_msgs/msg/Point'), orientation=geometry_msgs__msg__Quaternion(x=0.5321555053084824, y=-0.4163575624550942, z=-0.3290351560104191, w=0.659691416092043, __msgtype__='geometry_msgs/msg/Quaternion'), __msgtype__='geometry_msgs/msg/Pose'), covariance=array([156.3945855,   0.       ,   0.       ,   0.       ,   0.       ,\n         0.       ,   0.       , 156.3945855,   0.       ,   0.       ,\n         0.       ,   0.       ,   0.       ,   0.       , 156.3945855,\n         0.       ,   0.       ,   0.       ,   0.       ,   0.       ,\n         0.       ,  -1.       ,   0.       ,   0.       ,   0.       ,\n         0.       ,   0.       ,   0.       ,  -1.       ,   0.       ,\n         0.       ,   0.       ,   0.       ,   0.       ,   0.       ,\n        -1.       ]), __msgtype__='geometry_msgs/msg/PoseWithCovariance')",
         "-125.30571244113976",
         "61.45453065114887",
         "99.21764485088524"
        ],
        [
         "30",
         "geometry_msgs__msg__PoseWithCovariance(pose=geometry_msgs__msg__Pose(position=geometry_msgs__msg__Point(x=-125.30571244113976, y=61.45453065114887, z=99.21764485088524, __msgtype__='geometry_msgs/msg/Point'), orientation=geometry_msgs__msg__Quaternion(x=0.5321555053084824, y=-0.4163575624550942, z=-0.3290351560104191, w=0.659691416092043, __msgtype__='geometry_msgs/msg/Quaternion'), __msgtype__='geometry_msgs/msg/Pose'), covariance=array([156.3945855,   0.       ,   0.       ,   0.       ,   0.       ,\n         0.       ,   0.       , 156.3945855,   0.       ,   0.       ,\n         0.       ,   0.       ,   0.       ,   0.       , 156.3945855,\n         0.       ,   0.       ,   0.       ,   0.       ,   0.       ,\n         0.       ,  -1.       ,   0.       ,   0.       ,   0.       ,\n         0.       ,   0.       ,   0.       ,  -1.       ,   0.       ,\n         0.       ,   0.       ,   0.       ,   0.       ,   0.       ,\n        -1.       ]), __msgtype__='geometry_msgs/msg/PoseWithCovariance')",
         "-125.30571244113976",
         "61.45453065114887",
         "99.21764485088524"
        ],
        [
         "31",
         "geometry_msgs__msg__PoseWithCovariance(pose=geometry_msgs__msg__Pose(position=geometry_msgs__msg__Point(x=-125.30571244113976, y=61.45453065114887, z=99.21764485088524, __msgtype__='geometry_msgs/msg/Point'), orientation=geometry_msgs__msg__Quaternion(x=0.5321555053084824, y=-0.4163575624550942, z=-0.3290351560104191, w=0.659691416092043, __msgtype__='geometry_msgs/msg/Quaternion'), __msgtype__='geometry_msgs/msg/Pose'), covariance=array([156.3945855,   0.       ,   0.       ,   0.       ,   0.       ,\n         0.       ,   0.       , 156.3945855,   0.       ,   0.       ,\n         0.       ,   0.       ,   0.       ,   0.       , 156.3945855,\n         0.       ,   0.       ,   0.       ,   0.       ,   0.       ,\n         0.       ,  -1.       ,   0.       ,   0.       ,   0.       ,\n         0.       ,   0.       ,   0.       ,  -1.       ,   0.       ,\n         0.       ,   0.       ,   0.       ,   0.       ,   0.       ,\n        -1.       ]), __msgtype__='geometry_msgs/msg/PoseWithCovariance')",
         "-125.30571244113976",
         "61.45453065114887",
         "99.21764485088524"
        ],
        [
         "32",
         "geometry_msgs__msg__PoseWithCovariance(pose=geometry_msgs__msg__Pose(position=geometry_msgs__msg__Point(x=-125.30545576749424, y=61.454109000606465, z=99.2176580154139, __msgtype__='geometry_msgs/msg/Point'), orientation=geometry_msgs__msg__Quaternion(x=0.3467555085487858, y=-0.48339676831327144, z=-0.5931629765052058, w=0.5424443427475698, __msgtype__='geometry_msgs/msg/Quaternion'), __msgtype__='geometry_msgs/msg/Pose'), covariance=array([156.39458559,   0.        ,   0.        ,   0.        ,\n         0.        ,   0.        ,   0.        , 156.39458559,\n         0.        ,   0.        ,   0.        ,   0.        ,\n         0.        ,   0.        , 156.39458559,   0.        ,\n         0.        ,   0.        ,   0.        ,   0.        ,\n         0.        ,  -1.        ,   0.        ,   0.        ,\n         0.        ,   0.        ,   0.        ,   0.        ,\n        -1.        ,   0.        ,   0.        ,   0.        ,\n         0.        ,   0.        ,   0.        ,  -1.        ]), __msgtype__='geometry_msgs/msg/PoseWithCovariance')",
         "-125.30545576749424",
         "61.454109000606465",
         "99.2176580154139"
        ],
        [
         "33",
         "geometry_msgs__msg__PoseWithCovariance(pose=geometry_msgs__msg__Pose(position=geometry_msgs__msg__Point(x=-125.30545576749424, y=61.454109000606465, z=99.2176580154139, __msgtype__='geometry_msgs/msg/Point'), orientation=geometry_msgs__msg__Quaternion(x=0.3467555085487858, y=-0.48339676831327144, z=-0.5931629765052058, w=0.5424443427475698, __msgtype__='geometry_msgs/msg/Quaternion'), __msgtype__='geometry_msgs/msg/Pose'), covariance=array([156.39458559,   0.        ,   0.        ,   0.        ,\n         0.        ,   0.        ,   0.        , 156.39458559,\n         0.        ,   0.        ,   0.        ,   0.        ,\n         0.        ,   0.        , 156.39458559,   0.        ,\n         0.        ,   0.        ,   0.        ,   0.        ,\n         0.        ,  -1.        ,   0.        ,   0.        ,\n         0.        ,   0.        ,   0.        ,   0.        ,\n        -1.        ,   0.        ,   0.        ,   0.        ,\n         0.        ,   0.        ,   0.        ,  -1.        ]), __msgtype__='geometry_msgs/msg/PoseWithCovariance')",
         "-125.30545576749424",
         "61.454109000606465",
         "99.2176580154139"
        ],
        [
         "34",
         "geometry_msgs__msg__PoseWithCovariance(pose=geometry_msgs__msg__Pose(position=geometry_msgs__msg__Point(x=-125.30545576749424, y=61.454109000606465, z=99.2176580154139, __msgtype__='geometry_msgs/msg/Point'), orientation=geometry_msgs__msg__Quaternion(x=0.3467555085487858, y=-0.48339676831327144, z=-0.5931629765052058, w=0.5424443427475698, __msgtype__='geometry_msgs/msg/Quaternion'), __msgtype__='geometry_msgs/msg/Pose'), covariance=array([156.39458559,   0.        ,   0.        ,   0.        ,\n         0.        ,   0.        ,   0.        , 156.39458559,\n         0.        ,   0.        ,   0.        ,   0.        ,\n         0.        ,   0.        , 156.39458559,   0.        ,\n         0.        ,   0.        ,   0.        ,   0.        ,\n         0.        ,  -1.        ,   0.        ,   0.        ,\n         0.        ,   0.        ,   0.        ,   0.        ,\n        -1.        ,   0.        ,   0.        ,   0.        ,\n         0.        ,   0.        ,   0.        ,  -1.        ]), __msgtype__='geometry_msgs/msg/PoseWithCovariance')",
         "-125.30545576749424",
         "61.454109000606465",
         "99.2176580154139"
        ],
        [
         "35",
         "geometry_msgs__msg__PoseWithCovariance(pose=geometry_msgs__msg__Pose(position=geometry_msgs__msg__Point(x=-125.30545576749424, y=61.454109000606465, z=99.2176580154139, __msgtype__='geometry_msgs/msg/Point'), orientation=geometry_msgs__msg__Quaternion(x=0.3467555085487858, y=-0.48339676831327144, z=-0.5931629765052058, w=0.5424443427475698, __msgtype__='geometry_msgs/msg/Quaternion'), __msgtype__='geometry_msgs/msg/Pose'), covariance=array([156.39458559,   0.        ,   0.        ,   0.        ,\n         0.        ,   0.        ,   0.        , 156.39458559,\n         0.        ,   0.        ,   0.        ,   0.        ,\n         0.        ,   0.        , 156.39458559,   0.        ,\n         0.        ,   0.        ,   0.        ,   0.        ,\n         0.        ,  -1.        ,   0.        ,   0.        ,\n         0.        ,   0.        ,   0.        ,   0.        ,\n        -1.        ,   0.        ,   0.        ,   0.        ,\n         0.        ,   0.        ,   0.        ,  -1.        ]), __msgtype__='geometry_msgs/msg/PoseWithCovariance')",
         "-125.30545576749424",
         "61.454109000606465",
         "99.2176580154139"
        ],
        [
         "36",
         "geometry_msgs__msg__PoseWithCovariance(pose=geometry_msgs__msg__Pose(position=geometry_msgs__msg__Point(x=-125.30527258071565, y=61.45367328946403, z=99.21761915748749, __msgtype__='geometry_msgs/msg/Point'), orientation=geometry_msgs__msg__Quaternion(x=0.20014066225720847, y=-0.47750052818600897, z=-0.7961144799257998, w=0.3132709621809879, __msgtype__='geometry_msgs/msg/Quaternion'), __msgtype__='geometry_msgs/msg/Pose'), covariance=array([156.39458566,   0.        ,   0.        ,   0.        ,\n         0.        ,   0.        ,   0.        , 156.39458566,\n         0.        ,   0.        ,   0.        ,   0.        ,\n         0.        ,   0.        , 156.39458566,   0.        ,\n         0.        ,   0.        ,   0.        ,   0.        ,\n         0.        ,  -1.        ,   0.        ,   0.        ,\n         0.        ,   0.        ,   0.        ,   0.        ,\n        -1.        ,   0.        ,   0.        ,   0.        ,\n         0.        ,   0.        ,   0.        ,  -1.        ]), __msgtype__='geometry_msgs/msg/PoseWithCovariance')",
         "-125.30527258071565",
         "61.45367328946403",
         "99.21761915748749"
        ],
        [
         "37",
         "geometry_msgs__msg__PoseWithCovariance(pose=geometry_msgs__msg__Pose(position=geometry_msgs__msg__Point(x=-125.30527258071565, y=61.45367328946403, z=99.21761915748749, __msgtype__='geometry_msgs/msg/Point'), orientation=geometry_msgs__msg__Quaternion(x=0.20014066225720847, y=-0.47750052818600897, z=-0.7961144799257998, w=0.3132709621809879, __msgtype__='geometry_msgs/msg/Quaternion'), __msgtype__='geometry_msgs/msg/Pose'), covariance=array([156.39458566,   0.        ,   0.        ,   0.        ,\n         0.        ,   0.        ,   0.        , 156.39458566,\n         0.        ,   0.        ,   0.        ,   0.        ,\n         0.        ,   0.        , 156.39458566,   0.        ,\n         0.        ,   0.        ,   0.        ,   0.        ,\n         0.        ,  -1.        ,   0.        ,   0.        ,\n         0.        ,   0.        ,   0.        ,   0.        ,\n        -1.        ,   0.        ,   0.        ,   0.        ,\n         0.        ,   0.        ,   0.        ,  -1.        ]), __msgtype__='geometry_msgs/msg/PoseWithCovariance')",
         "-125.30527258071565",
         "61.45367328946403",
         "99.21761915748749"
        ],
        [
         "38",
         "geometry_msgs__msg__PoseWithCovariance(pose=geometry_msgs__msg__Pose(position=geometry_msgs__msg__Point(x=-125.30527258071565, y=61.45367328946403, z=99.21761915748749, __msgtype__='geometry_msgs/msg/Point'), orientation=geometry_msgs__msg__Quaternion(x=0.20014066225720847, y=-0.47750052818600897, z=-0.7961144799257998, w=0.3132709621809879, __msgtype__='geometry_msgs/msg/Quaternion'), __msgtype__='geometry_msgs/msg/Pose'), covariance=array([156.39458566,   0.        ,   0.        ,   0.        ,\n         0.        ,   0.        ,   0.        , 156.39458566,\n         0.        ,   0.        ,   0.        ,   0.        ,\n         0.        ,   0.        , 156.39458566,   0.        ,\n         0.        ,   0.        ,   0.        ,   0.        ,\n         0.        ,  -1.        ,   0.        ,   0.        ,\n         0.        ,   0.        ,   0.        ,   0.        ,\n        -1.        ,   0.        ,   0.        ,   0.        ,\n         0.        ,   0.        ,   0.        ,  -1.        ]), __msgtype__='geometry_msgs/msg/PoseWithCovariance')",
         "-125.30527258071565",
         "61.45367328946403",
         "99.21761915748749"
        ],
        [
         "39",
         "geometry_msgs__msg__PoseWithCovariance(pose=geometry_msgs__msg__Pose(position=geometry_msgs__msg__Point(x=-125.30527258071565, y=61.45367328946403, z=99.21761915748749, __msgtype__='geometry_msgs/msg/Point'), orientation=geometry_msgs__msg__Quaternion(x=0.20014066225720847, y=-0.47750052818600897, z=-0.7961144799257998, w=0.3132709621809879, __msgtype__='geometry_msgs/msg/Quaternion'), __msgtype__='geometry_msgs/msg/Pose'), covariance=array([156.39458566,   0.        ,   0.        ,   0.        ,\n         0.        ,   0.        ,   0.        , 156.39458566,\n         0.        ,   0.        ,   0.        ,   0.        ,\n         0.        ,   0.        , 156.39458566,   0.        ,\n         0.        ,   0.        ,   0.        ,   0.        ,\n         0.        ,  -1.        ,   0.        ,   0.        ,\n         0.        ,   0.        ,   0.        ,   0.        ,\n        -1.        ,   0.        ,   0.        ,   0.        ,\n         0.        ,   0.        ,   0.        ,  -1.        ]), __msgtype__='geometry_msgs/msg/PoseWithCovariance')",
         "-125.30527258071565",
         "61.45367328946403",
         "99.21761915748749"
        ],
        [
         "40",
         "geometry_msgs__msg__PoseWithCovariance(pose=geometry_msgs__msg__Pose(position=geometry_msgs__msg__Point(x=-125.30485341085833, y=61.45313647602021, z=99.21743005589494, __msgtype__='geometry_msgs/msg/Point'), orientation=geometry_msgs__msg__Quaternion(x=0.06859360778097304, y=-0.4677260854580091, z=-0.8807672685313822, w=0.027861167195313848, __msgtype__='geometry_msgs/msg/Quaternion'), __msgtype__='geometry_msgs/msg/Pose'), covariance=array([156.39458573,   0.        ,   0.        ,   0.        ,\n         0.        ,   0.        ,   0.        , 156.39458573,\n         0.        ,   0.        ,   0.        ,   0.        ,\n         0.        ,   0.        , 156.39458573,   0.        ,\n         0.        ,   0.        ,   0.        ,   0.        ,\n         0.        ,  -1.        ,   0.        ,   0.        ,\n         0.        ,   0.        ,   0.        ,   0.        ,\n        -1.        ,   0.        ,   0.        ,   0.        ,\n         0.        ,   0.        ,   0.        ,  -1.        ]), __msgtype__='geometry_msgs/msg/PoseWithCovariance')",
         "-125.30485341085833",
         "61.45313647602021",
         "99.21743005589494"
        ],
        [
         "41",
         "geometry_msgs__msg__PoseWithCovariance(pose=geometry_msgs__msg__Pose(position=geometry_msgs__msg__Point(x=-125.30485341085833, y=61.45313647602021, z=99.21743005589494, __msgtype__='geometry_msgs/msg/Point'), orientation=geometry_msgs__msg__Quaternion(x=0.06859360778097304, y=-0.4677260854580091, z=-0.8807672685313822, w=0.027861167195313848, __msgtype__='geometry_msgs/msg/Quaternion'), __msgtype__='geometry_msgs/msg/Pose'), covariance=array([156.39458573,   0.        ,   0.        ,   0.        ,\n         0.        ,   0.        ,   0.        , 156.39458573,\n         0.        ,   0.        ,   0.        ,   0.        ,\n         0.        ,   0.        , 156.39458573,   0.        ,\n         0.        ,   0.        ,   0.        ,   0.        ,\n         0.        ,  -1.        ,   0.        ,   0.        ,\n         0.        ,   0.        ,   0.        ,   0.        ,\n        -1.        ,   0.        ,   0.        ,   0.        ,\n         0.        ,   0.        ,   0.        ,  -1.        ]), __msgtype__='geometry_msgs/msg/PoseWithCovariance')",
         "-125.30485341085833",
         "61.45313647602021",
         "99.21743005589494"
        ],
        [
         "42",
         "geometry_msgs__msg__PoseWithCovariance(pose=geometry_msgs__msg__Pose(position=geometry_msgs__msg__Point(x=-125.30485341085833, y=61.45313647602021, z=99.21743005589494, __msgtype__='geometry_msgs/msg/Point'), orientation=geometry_msgs__msg__Quaternion(x=0.06859360778097304, y=-0.4677260854580091, z=-0.8807672685313822, w=0.027861167195313848, __msgtype__='geometry_msgs/msg/Quaternion'), __msgtype__='geometry_msgs/msg/Pose'), covariance=array([156.39458573,   0.        ,   0.        ,   0.        ,\n         0.        ,   0.        ,   0.        , 156.39458573,\n         0.        ,   0.        ,   0.        ,   0.        ,\n         0.        ,   0.        , 156.39458573,   0.        ,\n         0.        ,   0.        ,   0.        ,   0.        ,\n         0.        ,  -1.        ,   0.        ,   0.        ,\n         0.        ,   0.        ,   0.        ,   0.        ,\n        -1.        ,   0.        ,   0.        ,   0.        ,\n         0.        ,   0.        ,   0.        ,  -1.        ]), __msgtype__='geometry_msgs/msg/PoseWithCovariance')",
         "-125.30485341085833",
         "61.45313647602021",
         "99.21743005589494"
        ],
        [
         "43",
         "geometry_msgs__msg__PoseWithCovariance(pose=geometry_msgs__msg__Pose(position=geometry_msgs__msg__Point(x=-125.30485341085833, y=61.45313647602021, z=99.21743005589494, __msgtype__='geometry_msgs/msg/Point'), orientation=geometry_msgs__msg__Quaternion(x=0.06859360778097304, y=-0.4677260854580091, z=-0.8807672685313822, w=0.027861167195313848, __msgtype__='geometry_msgs/msg/Quaternion'), __msgtype__='geometry_msgs/msg/Pose'), covariance=array([156.39458573,   0.        ,   0.        ,   0.        ,\n         0.        ,   0.        ,   0.        , 156.39458573,\n         0.        ,   0.        ,   0.        ,   0.        ,\n         0.        ,   0.        , 156.39458573,   0.        ,\n         0.        ,   0.        ,   0.        ,   0.        ,\n         0.        ,  -1.        ,   0.        ,   0.        ,\n         0.        ,   0.        ,   0.        ,   0.        ,\n        -1.        ,   0.        ,   0.        ,   0.        ,\n         0.        ,   0.        ,   0.        ,  -1.        ]), __msgtype__='geometry_msgs/msg/PoseWithCovariance')",
         "-125.30485341085833",
         "61.45313647602021",
         "99.21743005589494"
        ],
        [
         "44",
         "geometry_msgs__msg__PoseWithCovariance(pose=geometry_msgs__msg__Pose(position=geometry_msgs__msg__Point(x=-125.304556194774, y=61.45277165687975, z=99.21727256062243, __msgtype__='geometry_msgs/msg/Point'), orientation=geometry_msgs__msg__Quaternion(x=-0.02086316120945895, y=-0.40341410113145054, z=-0.8723268274897928, w=-0.27544091481521993, __msgtype__='geometry_msgs/msg/Quaternion'), __msgtype__='geometry_msgs/msg/Pose'), covariance=array([156.39458579,   0.        ,   0.        ,   0.        ,\n         0.        ,   0.        ,   0.        , 156.39458579,\n         0.        ,   0.        ,   0.        ,   0.        ,\n         0.        ,   0.        , 156.39458579,   0.        ,\n         0.        ,   0.        ,   0.        ,   0.        ,\n         0.        ,  -1.        ,   0.        ,   0.        ,\n         0.        ,   0.        ,   0.        ,   0.        ,\n        -1.        ,   0.        ,   0.        ,   0.        ,\n         0.        ,   0.        ,   0.        ,  -1.        ]), __msgtype__='geometry_msgs/msg/PoseWithCovariance')",
         "-125.304556194774",
         "61.45277165687975",
         "99.21727256062243"
        ],
        [
         "45",
         "geometry_msgs__msg__PoseWithCovariance(pose=geometry_msgs__msg__Pose(position=geometry_msgs__msg__Point(x=-125.304556194774, y=61.45277165687975, z=99.21727256062243, __msgtype__='geometry_msgs/msg/Point'), orientation=geometry_msgs__msg__Quaternion(x=-0.02086316120945895, y=-0.40341410113145054, z=-0.8723268274897928, w=-0.27544091481521993, __msgtype__='geometry_msgs/msg/Quaternion'), __msgtype__='geometry_msgs/msg/Pose'), covariance=array([156.39458579,   0.        ,   0.        ,   0.        ,\n         0.        ,   0.        ,   0.        , 156.39458579,\n         0.        ,   0.        ,   0.        ,   0.        ,\n         0.        ,   0.        , 156.39458579,   0.        ,\n         0.        ,   0.        ,   0.        ,   0.        ,\n         0.        ,  -1.        ,   0.        ,   0.        ,\n         0.        ,   0.        ,   0.        ,   0.        ,\n        -1.        ,   0.        ,   0.        ,   0.        ,\n         0.        ,   0.        ,   0.        ,  -1.        ]), __msgtype__='geometry_msgs/msg/PoseWithCovariance')",
         "-125.304556194774",
         "61.45277165687975",
         "99.21727256062243"
        ],
        [
         "46",
         "geometry_msgs__msg__PoseWithCovariance(pose=geometry_msgs__msg__Pose(position=geometry_msgs__msg__Point(x=-125.304556194774, y=61.45277165687975, z=99.21727256062243, __msgtype__='geometry_msgs/msg/Point'), orientation=geometry_msgs__msg__Quaternion(x=-0.02086316120945895, y=-0.40341410113145054, z=-0.8723268274897928, w=-0.27544091481521993, __msgtype__='geometry_msgs/msg/Quaternion'), __msgtype__='geometry_msgs/msg/Pose'), covariance=array([156.39458579,   0.        ,   0.        ,   0.        ,\n         0.        ,   0.        ,   0.        , 156.39458579,\n         0.        ,   0.        ,   0.        ,   0.        ,\n         0.        ,   0.        , 156.39458579,   0.        ,\n         0.        ,   0.        ,   0.        ,   0.        ,\n         0.        ,  -1.        ,   0.        ,   0.        ,\n         0.        ,   0.        ,   0.        ,   0.        ,\n        -1.        ,   0.        ,   0.        ,   0.        ,\n         0.        ,   0.        ,   0.        ,  -1.        ]), __msgtype__='geometry_msgs/msg/PoseWithCovariance')",
         "-125.304556194774",
         "61.45277165687975",
         "99.21727256062243"
        ],
        [
         "47",
         "geometry_msgs__msg__PoseWithCovariance(pose=geometry_msgs__msg__Pose(position=geometry_msgs__msg__Point(x=-125.304556194774, y=61.45277165687975, z=99.21727256062243, __msgtype__='geometry_msgs/msg/Point'), orientation=geometry_msgs__msg__Quaternion(x=-0.02086316120945895, y=-0.40341410113145054, z=-0.8723268274897928, w=-0.27544091481521993, __msgtype__='geometry_msgs/msg/Quaternion'), __msgtype__='geometry_msgs/msg/Pose'), covariance=array([156.39458579,   0.        ,   0.        ,   0.        ,\n         0.        ,   0.        ,   0.        , 156.39458579,\n         0.        ,   0.        ,   0.        ,   0.        ,\n         0.        ,   0.        , 156.39458579,   0.        ,\n         0.        ,   0.        ,   0.        ,   0.        ,\n         0.        ,  -1.        ,   0.        ,   0.        ,\n         0.        ,   0.        ,   0.        ,   0.        ,\n        -1.        ,   0.        ,   0.        ,   0.        ,\n         0.        ,   0.        ,   0.        ,  -1.        ]), __msgtype__='geometry_msgs/msg/PoseWithCovariance')",
         "-125.304556194774",
         "61.45277165687975",
         "99.21727256062243"
        ],
        [
         "48",
         "geometry_msgs__msg__PoseWithCovariance(pose=geometry_msgs__msg__Pose(position=geometry_msgs__msg__Point(x=-125.30429691907806, y=61.452545807691365, z=99.21723311821425, __msgtype__='geometry_msgs/msg/Point'), orientation=geometry_msgs__msg__Quaternion(x=-0.059049325894308356, y=-0.31247992773415006, z=-0.7670493925748618, w=-0.5572294870385304, __msgtype__='geometry_msgs/msg/Quaternion'), __msgtype__='geometry_msgs/msg/Pose'), covariance=array([156.39458586,   0.        ,   0.        ,   0.        ,\n         0.        ,   0.        ,   0.        , 156.39458586,\n         0.        ,   0.        ,   0.        ,   0.        ,\n         0.        ,   0.        , 156.39458586,   0.        ,\n         0.        ,   0.        ,   0.        ,   0.        ,\n         0.        ,  -1.        ,   0.        ,   0.        ,\n         0.        ,   0.        ,   0.        ,   0.        ,\n        -1.        ,   0.        ,   0.        ,   0.        ,\n         0.        ,   0.        ,   0.        ,  -1.        ]), __msgtype__='geometry_msgs/msg/PoseWithCovariance')",
         "-125.30429691907806",
         "61.452545807691365",
         "99.21723311821425"
        ],
        [
         "49",
         "geometry_msgs__msg__PoseWithCovariance(pose=geometry_msgs__msg__Pose(position=geometry_msgs__msg__Point(x=-125.30429691907806, y=61.452545807691365, z=99.21723311821425, __msgtype__='geometry_msgs/msg/Point'), orientation=geometry_msgs__msg__Quaternion(x=-0.059049325894308356, y=-0.31247992773415006, z=-0.7670493925748618, w=-0.5572294870385304, __msgtype__='geometry_msgs/msg/Quaternion'), __msgtype__='geometry_msgs/msg/Pose'), covariance=array([156.39458586,   0.        ,   0.        ,   0.        ,\n         0.        ,   0.        ,   0.        , 156.39458586,\n         0.        ,   0.        ,   0.        ,   0.        ,\n         0.        ,   0.        , 156.39458586,   0.        ,\n         0.        ,   0.        ,   0.        ,   0.        ,\n         0.        ,  -1.        ,   0.        ,   0.        ,\n         0.        ,   0.        ,   0.        ,   0.        ,\n        -1.        ,   0.        ,   0.        ,   0.        ,\n         0.        ,   0.        ,   0.        ,  -1.        ]), __msgtype__='geometry_msgs/msg/PoseWithCovariance')",
         "-125.30429691907806",
         "61.452545807691365",
         "99.21723311821425"
        ]
       ],
       "shape": {
        "columns": 4,
        "rows": 282
       }
      },
      "text/html": [
       "<div>\n",
       "<style scoped>\n",
       "    .dataframe tbody tr th:only-of-type {\n",
       "        vertical-align: middle;\n",
       "    }\n",
       "\n",
       "    .dataframe tbody tr th {\n",
       "        vertical-align: top;\n",
       "    }\n",
       "\n",
       "    .dataframe thead th {\n",
       "        text-align: right;\n",
       "    }\n",
       "</style>\n",
       "<table border=\"1\" class=\"dataframe\">\n",
       "  <thead>\n",
       "    <tr style=\"text-align: right;\">\n",
       "      <th></th>\n",
       "      <th>pose</th>\n",
       "      <th>x</th>\n",
       "      <th>y</th>\n",
       "      <th>z</th>\n",
       "    </tr>\n",
       "  </thead>\n",
       "  <tbody>\n",
       "    <tr>\n",
       "      <th>0</th>\n",
       "      <td>geometry_msgs__msg__PoseWithCovariance(pose=ge...</td>\n",
       "      <td>-125.307865</td>\n",
       "      <td>61.456751</td>\n",
       "      <td>99.218864</td>\n",
       "    </tr>\n",
       "    <tr>\n",
       "      <th>1</th>\n",
       "      <td>geometry_msgs__msg__PoseWithCovariance(pose=ge...</td>\n",
       "      <td>-125.307865</td>\n",
       "      <td>61.456751</td>\n",
       "      <td>99.218864</td>\n",
       "    </tr>\n",
       "    <tr>\n",
       "      <th>2</th>\n",
       "      <td>geometry_msgs__msg__PoseWithCovariance(pose=ge...</td>\n",
       "      <td>-125.307865</td>\n",
       "      <td>61.456751</td>\n",
       "      <td>99.218864</td>\n",
       "    </tr>\n",
       "    <tr>\n",
       "      <th>3</th>\n",
       "      <td>geometry_msgs__msg__PoseWithCovariance(pose=ge...</td>\n",
       "      <td>-125.307865</td>\n",
       "      <td>61.456751</td>\n",
       "      <td>99.218864</td>\n",
       "    </tr>\n",
       "    <tr>\n",
       "      <th>4</th>\n",
       "      <td>geometry_msgs__msg__PoseWithCovariance(pose=ge...</td>\n",
       "      <td>-125.307376</td>\n",
       "      <td>61.456306</td>\n",
       "      <td>99.218615</td>\n",
       "    </tr>\n",
       "    <tr>\n",
       "      <th>...</th>\n",
       "      <td>...</td>\n",
       "      <td>...</td>\n",
       "      <td>...</td>\n",
       "      <td>...</td>\n",
       "    </tr>\n",
       "    <tr>\n",
       "      <th>277</th>\n",
       "      <td>geometry_msgs__msg__PoseWithCovariance(pose=ge...</td>\n",
       "      <td>-125.658375</td>\n",
       "      <td>61.691747</td>\n",
       "      <td>98.616316</td>\n",
       "    </tr>\n",
       "    <tr>\n",
       "      <th>278</th>\n",
       "      <td>geometry_msgs__msg__PoseWithCovariance(pose=ge...</td>\n",
       "      <td>-125.658375</td>\n",
       "      <td>61.691747</td>\n",
       "      <td>98.616316</td>\n",
       "    </tr>\n",
       "    <tr>\n",
       "      <th>279</th>\n",
       "      <td>geometry_msgs__msg__PoseWithCovariance(pose=ge...</td>\n",
       "      <td>-125.658375</td>\n",
       "      <td>61.691747</td>\n",
       "      <td>98.616316</td>\n",
       "    </tr>\n",
       "    <tr>\n",
       "      <th>280</th>\n",
       "      <td>geometry_msgs__msg__PoseWithCovariance(pose=ge...</td>\n",
       "      <td>-125.656527</td>\n",
       "      <td>61.689483</td>\n",
       "      <td>98.623782</td>\n",
       "    </tr>\n",
       "    <tr>\n",
       "      <th>281</th>\n",
       "      <td>geometry_msgs__msg__PoseWithCovariance(pose=ge...</td>\n",
       "      <td>-125.656527</td>\n",
       "      <td>61.689483</td>\n",
       "      <td>98.623782</td>\n",
       "    </tr>\n",
       "  </tbody>\n",
       "</table>\n",
       "<p>282 rows × 4 columns</p>\n",
       "</div>"
      ],
      "text/plain": [
       "                                                  pose           x          y  \\\n",
       "0    geometry_msgs__msg__PoseWithCovariance(pose=ge... -125.307865  61.456751   \n",
       "1    geometry_msgs__msg__PoseWithCovariance(pose=ge... -125.307865  61.456751   \n",
       "2    geometry_msgs__msg__PoseWithCovariance(pose=ge... -125.307865  61.456751   \n",
       "3    geometry_msgs__msg__PoseWithCovariance(pose=ge... -125.307865  61.456751   \n",
       "4    geometry_msgs__msg__PoseWithCovariance(pose=ge... -125.307376  61.456306   \n",
       "..                                                 ...         ...        ...   \n",
       "277  geometry_msgs__msg__PoseWithCovariance(pose=ge... -125.658375  61.691747   \n",
       "278  geometry_msgs__msg__PoseWithCovariance(pose=ge... -125.658375  61.691747   \n",
       "279  geometry_msgs__msg__PoseWithCovariance(pose=ge... -125.658375  61.691747   \n",
       "280  geometry_msgs__msg__PoseWithCovariance(pose=ge... -125.656527  61.689483   \n",
       "281  geometry_msgs__msg__PoseWithCovariance(pose=ge... -125.656527  61.689483   \n",
       "\n",
       "             z  \n",
       "0    99.218864  \n",
       "1    99.218864  \n",
       "2    99.218864  \n",
       "3    99.218864  \n",
       "4    99.218615  \n",
       "..         ...  \n",
       "277  98.616316  \n",
       "278  98.616316  \n",
       "279  98.616316  \n",
       "280  98.623782  \n",
       "281  98.623782  \n",
       "\n",
       "[282 rows x 4 columns]"
      ]
     },
     "execution_count": 3,
     "metadata": {},
     "output_type": "execute_result"
    }
   ],
   "source": [
    "bag_files = ['waterlinked_dvl_05132025_1250']  # List of ROS bag files\n",
    "topic2 = '/waterlinked_dvl_driver/odom'  # Topic to extract data from\n",
    "fields2 = ['pose']  # List of fields to extract from the message\n",
    "\n",
    "dataframe2 = extract_data_from_bag(bag_files, topic2, fields2)\n",
    "\n",
    "def extract_position(pose_with_cov):\n",
    "    pos = pose_with_cov.pose.position\n",
    "    return pd.Series({'x': pos.x, 'y': pos.y, 'z': pos.z})\n",
    "\n",
    "# Apply to all rows\n",
    "position_df = dataframe2['pose'].apply(extract_position)\n",
    "\n",
    "# Merge with original dataframe (optional)\n",
    "dataframe2 = pd.concat([dataframe2, position_df], axis=1)\n",
    "\n",
    "# ✅ Visualize as a DataFrame\n",
    "dataframe2"
   ]
  },
  {
   "cell_type": "code",
   "execution_count": 4,
   "id": "46bc24a0",
   "metadata": {},
   "outputs": [
    {
     "data": {
      "image/png": "[encoded data removed]",
      "text/plain": [
       "<Figure size 800x600 with 1 Axes>"
      ]
     },
     "metadata": {},
     "output_type": "display_data"
    }
   ],
   "source": [
    "import matplotlib.pyplot as plt\n",
    "from mpl_toolkits.mplot3d import Axes3D\n",
    "\n",
    "fig = plt.figure(figsize=(8, 6))\n",
    "ax = fig.add_subplot(111, projection='3d')\n",
    "\n",
    "ax.plot(position_df['x'], position_df['y'], position_df['z'], label='ROV Path')\n",
    "ax.scatter(position_df['x'].iloc[0], position_df['y'].iloc[0], position_df['z'].iloc[0], color='green', label='Start')\n",
    "ax.scatter(position_df['x'].iloc[-1], position_df['y'].iloc[-1], position_df['z'].iloc[-1], color='red', label='End')\n",
    "\n",
    "ax.set_xlabel('X')\n",
    "ax.set_ylabel('Y')\n",
    "ax.set_zlabel('Z')\n",
    "ax.set_title('ROV 3D Trajectory')\n",
    "ax.legend()\n",
    "plt.show()\n"
   ]
  }
 ],
 "metadata": {
  "kernelspec": {
   "display_name": "ros_visuals",
   "language": "python",
   "name": "python3"
  },
  "language_info": {
   "codemirror_mode": {
    "name": "ipython",
    "version": 3
   },
   "file_extension": ".py",
   "mimetype": "text/x-python",
   "name": "python",
   "nbconvert_exporter": "python",
   "pygments_lexer": "ipython3",
   "version": "3.10.17"
  }
 },
 "nbformat": 4,
 "nbformat_minor": 5
}
