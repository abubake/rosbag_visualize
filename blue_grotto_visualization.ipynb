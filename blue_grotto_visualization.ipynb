{
 "cells": [
  {
   "cell_type": "code",
   "execution_count": 1,
   "id": "7923df54",
   "metadata": {},
   "outputs": [],
   "source": [
    "from rosbag_to_dataframe import extract_data_from_bag\n",
    "import pandas as pd"
   ]
  },
  {
   "cell_type": "markdown",
   "id": "c343d0e0",
   "metadata": {},
   "source": [
    "### Testing extraction with IMU data from bag"
   ]
  },
  {
   "cell_type": "code",
   "execution_count": 2,
   "id": "d0fc8569",
   "metadata": {},
   "outputs": [
    {
     "data": {
      "application/vnd.microsoft.datawrangler.viewer.v0+json": {
       "columns": [
        {
         "name": "index",
         "rawType": "int64",
         "type": "integer"
        },
        {
         "name": "orientation_x",
         "rawType": "float64",
         "type": "float"
        },
        {
         "name": "orientation_y",
         "rawType": "float64",
         "type": "float"
        },
        {
         "name": "orientation_z",
         "rawType": "float64",
         "type": "float"
        },
        {
         "name": "orientation_w",
         "rawType": "float64",
         "type": "float"
        }
       ],
       "ref": "df7b2270-876d-4249-add7-95bdc4a0348a",
       "rows": [
        [
         "0",
         "-0.708435707890076",
         "0.016445355517616056",
         "0.7054389569755954",
         "0.014292517251003889"
        ],
        [
         "1",
         "0.7063888725422496",
         "-0.018912470743520288",
         "-0.7073003796863006",
         "-0.019576825444394458"
        ],
        [
         "2",
         "-0.707898362800019",
         "0.0233758153620022",
         "0.7055947485545848",
         "0.021668641245043863"
        ],
        [
         "3",
         "0.7059364192638554",
         "-0.02472586687898526",
         "-0.7073727439735725",
         "-0.025810938520466842"
        ],
        [
         "4",
         "-0.7076796392819725",
         "0.02830273085634788",
         "0.7054650725494165",
         "0.026599153833480327"
        ],
        [
         "5",
         "0.7058485596136792",
         "-0.029560991014302485",
         "-0.7070867277435013",
         "-0.03053388528396503"
        ],
        [
         "6",
         "-0.7072105548174537",
         "0.032591374375911586",
         "0.7055589362292802",
         "0.03126693106278167"
        ],
        [
         "7",
         "0.705807810794983",
         "-0.033332696148813346",
         "-0.7067946877267731",
         "-0.03413993247587921"
        ],
        [
         "8",
         "-0.70729338314239",
         "0.03741923268471278",
         "0.7050338992356",
         "0.03553972589829221"
        ],
        [
         "9",
         "0.705382573159372",
         "-0.03924305902539471",
         "-0.7065931495923985",
         "-0.040268210172379165"
        ],
        [
         "10",
         "-0.7069207078363808",
         "0.04320147135811375",
         "0.7047607534084666",
         "0.041340369612941213"
        ],
        [
         "11",
         "0.704799191847912",
         "-0.04683370591543248",
         "-0.7062244702851918",
         "-0.04808014903426802"
        ],
        [
         "12",
         "-0.7065684826271361",
         "0.05067433357790227",
         "0.704158015363218",
         "0.048524021619772095"
        ],
        [
         "13",
         "0.7047675173282428",
         "-0.051658369628049206",
         "-0.7056103771295252",
         "-0.05242284858232879"
        ],
        [
         "14",
         "-0.7061586819528658",
         "0.05599264050290814",
         "0.7037828788538378",
         "0.05379962401641378"
        ],
        [
         "15",
         "0.7043738858201305",
         "-0.05756184279491999",
         "-0.7050905551464423",
         "-0.058235489797755474"
        ],
        [
         "16",
         "-0.7058194472281512",
         "0.06169750495033452",
         "0.7032122793200873",
         "0.05920148655986618"
        ],
        [
         "17",
         "0.7043173352674164",
         "-0.0626998739782744",
         "-0.7043249346424714",
         "-0.06270728415258203"
        ],
        [
         "18",
         "-0.7052440483302244",
         "0.06750526563416068",
         "0.7027419098261032",
         "0.06502060888994118"
        ],
        [
         "19",
         "0.7038066623298407",
         "-0.06842550021065238",
         "-0.7037731923025001",
         "-0.0683917157073865"
        ],
        [
         "20",
         "0.7021904133099084",
         "-0.07043136545568005",
         "-0.7047229839214109",
         "-0.07303124090833532"
        ],
        [
         "21",
         "-0.7032540182180087",
         "0.07475611349984057",
         "0.703055987004298",
         "0.07454923535513858"
        ],
        [
         "22",
         "0.7015702370585907",
         "-0.07618657102947643",
         "-0.7041106039449049",
         "-0.07888641379011185"
        ],
        [
         "23",
         "-0.7025088709811933",
         "0.08019628532002462",
         "0.7025720199954104",
         "0.08026455465002358"
        ],
        [
         "24",
         "-0.7035365415177273",
         "0.08436840727425918",
         "0.7009130422435519",
         "0.08148137097624641"
        ],
        [
         "25",
         "0.7017165668096509",
         "-0.08570471394148363",
         "-0.7020280473875367",
         "-0.08605337038331518"
        ],
        [
         "26",
         "-0.7027977037582728",
         "0.08953939959173068",
         "0.70037703592164",
         "0.0867760973221845"
        ],
        [
         "27",
         "0.7012300211539143",
         "-0.09048563799172252",
         "-0.7013400676879107",
         "-0.09061410599475589"
        ],
        [
         "28",
         "-0.7021909369813234",
         "0.09383027175887476",
         "0.6998776573397992",
         "0.09107707109641452"
        ],
        [
         "29",
         "0.700232227834592",
         "-0.09547449714790562",
         "-0.700917284155467",
         "-0.09630372925428657"
        ],
        [
         "30",
         "-0.7013261168064732",
         "0.1007938623063247",
         "0.6988728844542856",
         "0.0977699676847324"
        ],
        [
         "31",
         "0.6991152137578072",
         "-0.10183159262802347",
         "-0.7001637522848585",
         "-0.10314535676220796"
        ],
        [
         "32",
         "-0.7002970156202106",
         "0.10692017597425693",
         "0.6980809147283333",
         "0.10409227817236932"
        ],
        [
         "33",
         "0.6983889937144172",
         "-0.1079911448083776",
         "-0.6990927049737339",
         "-0.10890415948919147"
        ],
        [
         "34",
         "-0.6993620370955528",
         "0.11263857895515719",
         "0.6972384055397266",
         "0.10983577486839771"
        ],
        [
         "35",
         "0.6975528755400137",
         "-0.11362378679419385",
         "-0.6981517085978624",
         "-0.11442819880733554"
        ],
        [
         "36",
         "-0.6983684001737616",
         "0.11792615352974606",
         "0.6964728326448459",
         "0.11532819837352809"
        ],
        [
         "37",
         "0.6969274170782311",
         "-0.11822986099889352",
         "-0.6972911207176516",
         "-0.11873907638671072"
        ],
        [
         "38",
         "-0.6975996776050304",
         "0.12168221513431285",
         "0.6959287928601763",
         "0.11929477605302952"
        ],
        [
         "39",
         "0.6960848987275463",
         "-0.12340899310441109",
         "-0.6963543334484661",
         "-0.12380095505269403"
        ],
        [
         "40",
         "-0.6963262637820959",
         "0.12770734212702292",
         "0.6949911754697689",
         "0.12572921360315317"
        ],
        [
         "41",
         "0.6944958933002657",
         "-0.12936802244998277",
         "-0.6955498143027697",
         "-0.13095733954165792"
        ],
        [
         "42",
         "-0.6950556983272604",
         "0.13441958701196258",
         "0.6937536948173816",
         "0.13241888754089842"
        ],
        [
         "43",
         "0.6933537947491593",
         "-0.1353885898789998",
         "-0.6943792221171798",
         "-0.1369961347245135"
        ],
        [
         "44",
         "-0.6939255618005399",
         "0.1402304086147288",
         "0.6926179519116301",
         "0.13814166594221236"
        ],
        [
         "45",
         "0.6922695635488625",
         "-0.14035037543909457",
         "-0.6934231959323617",
         "-0.14222831940553282"
        ],
        [
         "46",
         "-0.6929882491370819",
         "0.14474314337892916",
         "0.6917176344493939",
         "0.14263037262253425"
        ],
        [
         "47",
         "0.6916535081857198",
         "-0.14489603169397702",
         "-0.6923142538842146",
         "-0.14601896617380833"
        ],
        [
         "48",
         "-0.6919305237213336",
         "0.14894855076639854",
         "0.6909253405505189",
         "0.1472027627202023"
        ],
        [
         "49",
         "0.6903370872757393",
         "-0.15036736766543715",
         "-0.6911971156143562",
         "-0.1518911058601193"
        ]
       ],
       "shape": {
        "columns": 4,
        "rows": 192
       }
      },
      "text/html": [
       "<div>\n",
       "<style scoped>\n",
       "    .dataframe tbody tr th:only-of-type {\n",
       "        vertical-align: middle;\n",
       "    }\n",
       "\n",
       "    .dataframe tbody tr th {\n",
       "        vertical-align: top;\n",
       "    }\n",
       "\n",
       "    .dataframe thead th {\n",
       "        text-align: right;\n",
       "    }\n",
       "</style>\n",
       "<table border=\"1\" class=\"dataframe\">\n",
       "  <thead>\n",
       "    <tr style=\"text-align: right;\">\n",
       "      <th></th>\n",
       "      <th>orientation_x</th>\n",
       "      <th>orientation_y</th>\n",
       "      <th>orientation_z</th>\n",
       "      <th>orientation_w</th>\n",
       "    </tr>\n",
       "  </thead>\n",
       "  <tbody>\n",
       "    <tr>\n",
       "      <th>0</th>\n",
       "      <td>-0.708436</td>\n",
       "      <td>0.016445</td>\n",
       "      <td>0.705439</td>\n",
       "      <td>0.014293</td>\n",
       "    </tr>\n",
       "    <tr>\n",
       "      <th>1</th>\n",
       "      <td>0.706389</td>\n",
       "      <td>-0.018912</td>\n",
       "      <td>-0.707300</td>\n",
       "      <td>-0.019577</td>\n",
       "    </tr>\n",
       "    <tr>\n",
       "      <th>2</th>\n",
       "      <td>-0.707898</td>\n",
       "      <td>0.023376</td>\n",
       "      <td>0.705595</td>\n",
       "      <td>0.021669</td>\n",
       "    </tr>\n",
       "    <tr>\n",
       "      <th>3</th>\n",
       "      <td>0.705936</td>\n",
       "      <td>-0.024726</td>\n",
       "      <td>-0.707373</td>\n",
       "      <td>-0.025811</td>\n",
       "    </tr>\n",
       "    <tr>\n",
       "      <th>4</th>\n",
       "      <td>-0.707680</td>\n",
       "      <td>0.028303</td>\n",
       "      <td>0.705465</td>\n",
       "      <td>0.026599</td>\n",
       "    </tr>\n",
       "    <tr>\n",
       "      <th>...</th>\n",
       "      <td>...</td>\n",
       "      <td>...</td>\n",
       "      <td>...</td>\n",
       "      <td>...</td>\n",
       "    </tr>\n",
       "    <tr>\n",
       "      <th>187</th>\n",
       "      <td>-0.214102</td>\n",
       "      <td>0.673709</td>\n",
       "      <td>0.216690</td>\n",
       "      <td>0.673292</td>\n",
       "    </tr>\n",
       "    <tr>\n",
       "      <th>188</th>\n",
       "      <td>-0.217781</td>\n",
       "      <td>0.672810</td>\n",
       "      <td>0.216878</td>\n",
       "      <td>0.672951</td>\n",
       "    </tr>\n",
       "    <tr>\n",
       "      <th>189</th>\n",
       "      <td>-0.215980</td>\n",
       "      <td>0.673021</td>\n",
       "      <td>0.219395</td>\n",
       "      <td>0.672504</td>\n",
       "    </tr>\n",
       "    <tr>\n",
       "      <th>190</th>\n",
       "      <td>-0.218609</td>\n",
       "      <td>0.672553</td>\n",
       "      <td>0.217628</td>\n",
       "      <td>0.672697</td>\n",
       "    </tr>\n",
       "    <tr>\n",
       "      <th>191</th>\n",
       "      <td>-0.213930</td>\n",
       "      <td>0.673487</td>\n",
       "      <td>0.219363</td>\n",
       "      <td>0.672703</td>\n",
       "    </tr>\n",
       "  </tbody>\n",
       "</table>\n",
       "<p>192 rows × 4 columns</p>\n",
       "</div>"
      ],
      "text/plain": [
       "     orientation_x  orientation_y  orientation_z  orientation_w\n",
       "0        -0.708436       0.016445       0.705439       0.014293\n",
       "1         0.706389      -0.018912      -0.707300      -0.019577\n",
       "2        -0.707898       0.023376       0.705595       0.021669\n",
       "3         0.705936      -0.024726      -0.707373      -0.025811\n",
       "4        -0.707680       0.028303       0.705465       0.026599\n",
       "..             ...            ...            ...            ...\n",
       "187      -0.214102       0.673709       0.216690       0.673292\n",
       "188      -0.217781       0.672810       0.216878       0.672951\n",
       "189      -0.215980       0.673021       0.219395       0.672504\n",
       "190      -0.218609       0.672553       0.217628       0.672697\n",
       "191      -0.213930       0.673487       0.219363       0.672703\n",
       "\n",
       "[192 rows x 4 columns]"
      ]
     },
     "execution_count": 2,
     "metadata": {},
     "output_type": "execute_result"
    }
   ],
   "source": [
    "bag_files = ['waterlinked_dvl_05132025_1250']  # List of ROS bag files\n",
    "topic1 = '/rov/imu'  # Topic to extract data from\n",
    "fields1 = ['orientation']  # List of fields to extract from the message\n",
    "\n",
    "dataframe1 = extract_data_from_bag(bag_files, topic1, fields1)\n",
    "\n",
    "# Expand orientation column into separate x, y, z, w columns\n",
    "orientation_df = dataframe1['orientation'].apply(lambda q: pd.Series({\n",
    "    'orientation_x': q.x,\n",
    "    'orientation_y': q.y,\n",
    "    'orientation_z': q.z,\n",
    "    'orientation_w': q.w,\n",
    "}))\n",
    "\n",
    "# Combine with original DataFrame\n",
    "dataframe = pd.concat([dataframe1.drop(columns=['orientation']), orientation_df], axis=1)\n",
    "dataframe"
   ]
  },
  {
   "cell_type": "code",
   "execution_count": 18,
   "id": "9432d0a7",
   "metadata": {},
   "outputs": [
    {
     "data": {
      "application/vnd.microsoft.datawrangler.viewer.v0+json": {
       "columns": [
        {
         "name": "index",
         "rawType": "int64",
         "type": "integer"
        },
        {
         "name": "pose",
         "rawType": "object",
         "type": "unknown"
        },
        {
         "name": "x",
         "rawType": "float64",
         "type": "float"
        },
        {
         "name": "y",
         "rawType": "float64",
         "type": "float"
        },
        {
         "name": "z",
         "rawType": "float64",
         "type": "float"
        }
       ],
       "ref": "c70bf609-cf70-4f7b-aba9-8e6ad0c3edda",
       "rows": [
        [
         "0",
         "geometry_msgs__msg__PoseWithCovariance(pose=geometry_msgs__msg__Pose(position=geometry_msgs__msg__Point(x=-131.7422293011825, y=63.606814319341034, z=96.98401882965233, __msgtype__='geometry_msgs/msg/Point'), orientation=geometry_msgs__msg__Quaternion(x=0.7251031607955931, y=-0.2464301214644486, z=-0.562203623847741, w=0.3121292789401939, __msgtype__='geometry_msgs/msg/Quaternion'), __msgtype__='geometry_msgs/msg/Pose'), covariance=array([156.39547713,   0.        ,   0.        ,   0.        ,\n         0.        ,   0.        ,   0.        , 156.39547713,\n         0.        ,   0.        ,   0.        ,   0.        ,\n         0.        ,   0.        , 156.39547713,   0.        ,\n         0.        ,   0.        ,   0.        ,   0.        ,\n         0.        ,  -1.        ,   0.        ,   0.        ,\n         0.        ,   0.        ,   0.        ,   0.        ,\n        -1.        ,   0.        ,   0.        ,   0.        ,\n         0.        ,   0.        ,   0.        ,  -1.        ]), __msgtype__='geometry_msgs/msg/PoseWithCovariance')",
         "-131.7422293011825",
         "63.606814319341034",
         "96.98401882965233"
        ],
        [
         "1",
         "geometry_msgs__msg__PoseWithCovariance(pose=geometry_msgs__msg__Pose(position=geometry_msgs__msg__Point(x=-131.77018387475408, y=63.61627541230989, z=96.99734964343797, __msgtype__='geometry_msgs/msg/Point'), orientation=geometry_msgs__msg__Quaternion(x=-0.8092949114205215, y=0.5613918622858257, z=0.1586755044865984, w=-0.06857847755693137, __msgtype__='geometry_msgs/msg/Quaternion'), __msgtype__='geometry_msgs/msg/Pose'), covariance=array([156.39550352,   0.        ,   0.        ,   0.        ,\n         0.        ,   0.        ,   0.        , 156.39550352,\n         0.        ,   0.        ,   0.        ,   0.        ,\n         0.        ,   0.        , 156.39550352,   0.        ,\n         0.        ,   0.        ,   0.        ,   0.        ,\n         0.        ,  -1.        ,   0.        ,   0.        ,\n         0.        ,   0.        ,   0.        ,   0.        ,\n        -1.        ,   0.        ,   0.        ,   0.        ,\n         0.        ,   0.        ,   0.        ,  -1.        ]), __msgtype__='geometry_msgs/msg/PoseWithCovariance')",
         "-131.77018387475408",
         "63.61627541230989",
         "96.99734964343797"
        ],
        [
         "2",
         "geometry_msgs__msg__PoseWithCovariance(pose=geometry_msgs__msg__Pose(position=geometry_msgs__msg__Point(x=-131.77018387475408, y=63.61627541230989, z=96.99734964343797, __msgtype__='geometry_msgs/msg/Point'), orientation=geometry_msgs__msg__Quaternion(x=-0.8092949114205215, y=0.5613918622858257, z=0.1586755044865984, w=-0.06857847755693137, __msgtype__='geometry_msgs/msg/Quaternion'), __msgtype__='geometry_msgs/msg/Pose'), covariance=array([156.39550352,   0.        ,   0.        ,   0.        ,\n         0.        ,   0.        ,   0.        , 156.39550352,\n         0.        ,   0.        ,   0.        ,   0.        ,\n         0.        ,   0.        , 156.39550352,   0.        ,\n         0.        ,   0.        ,   0.        ,   0.        ,\n         0.        ,  -1.        ,   0.        ,   0.        ,\n         0.        ,   0.        ,   0.        ,   0.        ,\n        -1.        ,   0.        ,   0.        ,   0.        ,\n         0.        ,   0.        ,   0.        ,  -1.        ]), __msgtype__='geometry_msgs/msg/PoseWithCovariance')",
         "-131.77018387475408",
         "63.61627541230989",
         "96.99734964343797"
        ],
        [
         "3",
         "geometry_msgs__msg__PoseWithCovariance(pose=geometry_msgs__msg__Pose(position=geometry_msgs__msg__Point(x=-131.77018387475408, y=63.61627541230989, z=96.99734964343797, __msgtype__='geometry_msgs/msg/Point'), orientation=geometry_msgs__msg__Quaternion(x=-0.8092949114205215, y=0.5613918622858257, z=0.1586755044865984, w=-0.06857847755693137, __msgtype__='geometry_msgs/msg/Quaternion'), __msgtype__='geometry_msgs/msg/Pose'), covariance=array([156.39550352,   0.        ,   0.        ,   0.        ,\n         0.        ,   0.        ,   0.        , 156.39550352,\n         0.        ,   0.        ,   0.        ,   0.        ,\n         0.        ,   0.        , 156.39550352,   0.        ,\n         0.        ,   0.        ,   0.        ,   0.        ,\n         0.        ,  -1.        ,   0.        ,   0.        ,\n         0.        ,   0.        ,   0.        ,   0.        ,\n        -1.        ,   0.        ,   0.        ,   0.        ,\n         0.        ,   0.        ,   0.        ,  -1.        ]), __msgtype__='geometry_msgs/msg/PoseWithCovariance')",
         "-131.77018387475408",
         "63.61627541230989",
         "96.99734964343797"
        ],
        [
         "4",
         "geometry_msgs__msg__PoseWithCovariance(pose=geometry_msgs__msg__Pose(position=geometry_msgs__msg__Point(x=-131.74999918435898, y=63.57172929053402, z=96.98055120591616, __msgtype__='geometry_msgs/msg/Point'), orientation=geometry_msgs__msg__Quaternion(x=-0.36761483585333193, y=-0.6269528819508374, z=-0.682981944106581, w=-0.0729731477905558, __msgtype__='geometry_msgs/msg/Quaternion'), __msgtype__='geometry_msgs/msg/Pose'), covariance=array([156.39548629,   0.        ,   0.        ,   0.        ,\n         0.        ,   0.        ,   0.        , 156.39548629,\n         0.        ,   0.        ,   0.        ,   0.        ,\n         0.        ,   0.        , 156.39548629,   0.        ,\n         0.        ,   0.        ,   0.        ,   0.        ,\n         0.        ,  -1.        ,   0.        ,   0.        ,\n         0.        ,   0.        ,   0.        ,   0.        ,\n        -1.        ,   0.        ,   0.        ,   0.        ,\n         0.        ,   0.        ,   0.        ,  -1.        ]), __msgtype__='geometry_msgs/msg/PoseWithCovariance')",
         "-131.74999918435898",
         "63.57172929053402",
         "96.98055120591616"
        ],
        [
         "5",
         "geometry_msgs__msg__PoseWithCovariance(pose=geometry_msgs__msg__Pose(position=geometry_msgs__msg__Point(x=-131.74999918435898, y=63.57172929053402, z=96.98055120591616, __msgtype__='geometry_msgs/msg/Point'), orientation=geometry_msgs__msg__Quaternion(x=-0.36761483585333193, y=-0.6269528819508374, z=-0.682981944106581, w=-0.0729731477905558, __msgtype__='geometry_msgs/msg/Quaternion'), __msgtype__='geometry_msgs/msg/Pose'), covariance=array([156.39548629,   0.        ,   0.        ,   0.        ,\n         0.        ,   0.        ,   0.        , 156.39548629,\n         0.        ,   0.        ,   0.        ,   0.        ,\n         0.        ,   0.        , 156.39548629,   0.        ,\n         0.        ,   0.        ,   0.        ,   0.        ,\n         0.        ,  -1.        ,   0.        ,   0.        ,\n         0.        ,   0.        ,   0.        ,   0.        ,\n        -1.        ,   0.        ,   0.        ,   0.        ,\n         0.        ,   0.        ,   0.        ,  -1.        ]), __msgtype__='geometry_msgs/msg/PoseWithCovariance')",
         "-131.74999918435898",
         "63.57172929053402",
         "96.98055120591616"
        ],
        [
         "6",
         "geometry_msgs__msg__PoseWithCovariance(pose=geometry_msgs__msg__Pose(position=geometry_msgs__msg__Point(x=-131.74999918435898, y=63.57172929053402, z=96.98055120591616, __msgtype__='geometry_msgs/msg/Point'), orientation=geometry_msgs__msg__Quaternion(x=-0.36761483585333193, y=-0.6269528819508374, z=-0.682981944106581, w=-0.0729731477905558, __msgtype__='geometry_msgs/msg/Quaternion'), __msgtype__='geometry_msgs/msg/Pose'), covariance=array([156.39548629,   0.        ,   0.        ,   0.        ,\n         0.        ,   0.        ,   0.        , 156.39548629,\n         0.        ,   0.        ,   0.        ,   0.        ,\n         0.        ,   0.        , 156.39548629,   0.        ,\n         0.        ,   0.        ,   0.        ,   0.        ,\n         0.        ,  -1.        ,   0.        ,   0.        ,\n         0.        ,   0.        ,   0.        ,   0.        ,\n        -1.        ,   0.        ,   0.        ,   0.        ,\n         0.        ,   0.        ,   0.        ,  -1.        ]), __msgtype__='geometry_msgs/msg/PoseWithCovariance')",
         "-131.74999918435898",
         "63.57172929053402",
         "96.98055120591616"
        ],
        [
         "7",
         "geometry_msgs__msg__PoseWithCovariance(pose=geometry_msgs__msg__Pose(position=geometry_msgs__msg__Point(x=-131.7175099982939, y=63.583008780136296, z=96.98302179168526, __msgtype__='geometry_msgs/msg/Point'), orientation=geometry_msgs__msg__Quaternion(x=0.6280262415689419, y=-0.4450248340135714, z=-0.5555541486311937, w=-0.3144765888753119, __msgtype__='geometry_msgs/msg/Quaternion'), __msgtype__='geometry_msgs/msg/Pose'), covariance=array([156.3954869,   0.       ,   0.       ,   0.       ,   0.       ,\n         0.       ,   0.       , 156.3954869,   0.       ,   0.       ,\n         0.       ,   0.       ,   0.       ,   0.       , 156.3954869,\n         0.       ,   0.       ,   0.       ,   0.       ,   0.       ,\n         0.       ,  -1.       ,   0.       ,   0.       ,   0.       ,\n         0.       ,   0.       ,   0.       ,  -1.       ,   0.       ,\n         0.       ,   0.       ,   0.       ,   0.       ,   0.       ,\n        -1.       ]), __msgtype__='geometry_msgs/msg/PoseWithCovariance')",
         "-131.7175099982939",
         "63.583008780136296",
         "96.98302179168526"
        ],
        [
         "8",
         "geometry_msgs__msg__PoseWithCovariance(pose=geometry_msgs__msg__Pose(position=geometry_msgs__msg__Point(x=-131.7175099982939, y=63.583008780136296, z=96.98302179168526, __msgtype__='geometry_msgs/msg/Point'), orientation=geometry_msgs__msg__Quaternion(x=0.6280262415689419, y=-0.4450248340135714, z=-0.5555541486311937, w=-0.3144765888753119, __msgtype__='geometry_msgs/msg/Quaternion'), __msgtype__='geometry_msgs/msg/Pose'), covariance=array([156.3954869,   0.       ,   0.       ,   0.       ,   0.       ,\n         0.       ,   0.       , 156.3954869,   0.       ,   0.       ,\n         0.       ,   0.       ,   0.       ,   0.       , 156.3954869,\n         0.       ,   0.       ,   0.       ,   0.       ,   0.       ,\n         0.       ,  -1.       ,   0.       ,   0.       ,   0.       ,\n         0.       ,   0.       ,   0.       ,  -1.       ,   0.       ,\n         0.       ,   0.       ,   0.       ,   0.       ,   0.       ,\n        -1.       ]), __msgtype__='geometry_msgs/msg/PoseWithCovariance')",
         "-131.7175099982939",
         "63.583008780136296",
         "96.98302179168526"
        ],
        [
         "9",
         "geometry_msgs__msg__PoseWithCovariance(pose=geometry_msgs__msg__Pose(position=geometry_msgs__msg__Point(x=-131.7175099982939, y=63.583008780136296, z=96.98302179168526, __msgtype__='geometry_msgs/msg/Point'), orientation=geometry_msgs__msg__Quaternion(x=0.6280262415689419, y=-0.4450248340135714, z=-0.5555541486311937, w=-0.3144765888753119, __msgtype__='geometry_msgs/msg/Quaternion'), __msgtype__='geometry_msgs/msg/Pose'), covariance=array([156.3954869,   0.       ,   0.       ,   0.       ,   0.       ,\n         0.       ,   0.       , 156.3954869,   0.       ,   0.       ,\n         0.       ,   0.       ,   0.       ,   0.       , 156.3954869,\n         0.       ,   0.       ,   0.       ,   0.       ,   0.       ,\n         0.       ,  -1.       ,   0.       ,   0.       ,   0.       ,\n         0.       ,   0.       ,   0.       ,  -1.       ,   0.       ,\n         0.       ,   0.       ,   0.       ,   0.       ,   0.       ,\n        -1.       ]), __msgtype__='geometry_msgs/msg/PoseWithCovariance')",
         "-131.7175099982939",
         "63.583008780136296",
         "96.98302179168526"
        ],
        [
         "10",
         "geometry_msgs__msg__PoseWithCovariance(pose=geometry_msgs__msg__Pose(position=geometry_msgs__msg__Point(x=-131.70056857773457, y=63.58648234838079, z=97.00422912943704, __msgtype__='geometry_msgs/msg/Point'), orientation=geometry_msgs__msg__Quaternion(x=-0.6235189661725679, y=0.04408742049195357, z=0.7797682697869637, w=-0.035239801516224474, __msgtype__='geometry_msgs/msg/Quaternion'), __msgtype__='geometry_msgs/msg/Pose'), covariance=array([156.39548744,   0.        ,   0.        ,   0.        ,\n         0.        ,   0.        ,   0.        , 156.39548744,\n         0.        ,   0.        ,   0.        ,   0.        ,\n         0.        ,   0.        , 156.39548744,   0.        ,\n         0.        ,   0.        ,   0.        ,   0.        ,\n         0.        ,  -1.        ,   0.        ,   0.        ,\n         0.        ,   0.        ,   0.        ,   0.        ,\n        -1.        ,   0.        ,   0.        ,   0.        ,\n         0.        ,   0.        ,   0.        ,  -1.        ]), __msgtype__='geometry_msgs/msg/PoseWithCovariance')",
         "-131.70056857773457",
         "63.58648234838079",
         "97.00422912943704"
        ],
        [
         "11",
         "geometry_msgs__msg__PoseWithCovariance(pose=geometry_msgs__msg__Pose(position=geometry_msgs__msg__Point(x=-131.70056857773457, y=63.58648234838079, z=97.00422912943704, __msgtype__='geometry_msgs/msg/Point'), orientation=geometry_msgs__msg__Quaternion(x=-0.6235189661725679, y=0.04408742049195357, z=0.7797682697869637, w=-0.035239801516224474, __msgtype__='geometry_msgs/msg/Quaternion'), __msgtype__='geometry_msgs/msg/Pose'), covariance=array([156.39548744,   0.        ,   0.        ,   0.        ,\n         0.        ,   0.        ,   0.        , 156.39548744,\n         0.        ,   0.        ,   0.        ,   0.        ,\n         0.        ,   0.        , 156.39548744,   0.        ,\n         0.        ,   0.        ,   0.        ,   0.        ,\n         0.        ,  -1.        ,   0.        ,   0.        ,\n         0.        ,   0.        ,   0.        ,   0.        ,\n        -1.        ,   0.        ,   0.        ,   0.        ,\n         0.        ,   0.        ,   0.        ,  -1.        ]), __msgtype__='geometry_msgs/msg/PoseWithCovariance')",
         "-131.70056857773457",
         "63.58648234838079",
         "97.00422912943704"
        ],
        [
         "12",
         "geometry_msgs__msg__PoseWithCovariance(pose=geometry_msgs__msg__Pose(position=geometry_msgs__msg__Point(x=-131.70056857773457, y=63.58648234838079, z=97.00422912943704, __msgtype__='geometry_msgs/msg/Point'), orientation=geometry_msgs__msg__Quaternion(x=-0.6235189661725679, y=0.04408742049195357, z=0.7797682697869637, w=-0.035239801516224474, __msgtype__='geometry_msgs/msg/Quaternion'), __msgtype__='geometry_msgs/msg/Pose'), covariance=array([156.39548744,   0.        ,   0.        ,   0.        ,\n         0.        ,   0.        ,   0.        , 156.39548744,\n         0.        ,   0.        ,   0.        ,   0.        ,\n         0.        ,   0.        , 156.39548744,   0.        ,\n         0.        ,   0.        ,   0.        ,   0.        ,\n         0.        ,  -1.        ,   0.        ,   0.        ,\n         0.        ,   0.        ,   0.        ,   0.        ,\n        -1.        ,   0.        ,   0.        ,   0.        ,\n         0.        ,   0.        ,   0.        ,  -1.        ]), __msgtype__='geometry_msgs/msg/PoseWithCovariance')",
         "-131.70056857773457",
         "63.58648234838079",
         "97.00422912943704"
        ],
        [
         "13",
         "geometry_msgs__msg__PoseWithCovariance(pose=geometry_msgs__msg__Pose(position=geometry_msgs__msg__Point(x=-131.69752008660504, y=63.576683423522695, z=97.0320705491454, __msgtype__='geometry_msgs/msg/Point'), orientation=geometry_msgs__msg__Quaternion(x=-0.09645216504903305, y=-0.6814779421451876, z=-0.3143185435049096, w=-0.653826159950691, __msgtype__='geometry_msgs/msg/Quaternion'), __msgtype__='geometry_msgs/msg/Pose'), covariance=array([156.39548804,   0.        ,   0.        ,   0.        ,\n         0.        ,   0.        ,   0.        , 156.39548804,\n         0.        ,   0.        ,   0.        ,   0.        ,\n         0.        ,   0.        , 156.39548804,   0.        ,\n         0.        ,   0.        ,   0.        ,   0.        ,\n         0.        ,  -1.        ,   0.        ,   0.        ,\n         0.        ,   0.        ,   0.        ,   0.        ,\n        -1.        ,   0.        ,   0.        ,   0.        ,\n         0.        ,   0.        ,   0.        ,  -1.        ]), __msgtype__='geometry_msgs/msg/PoseWithCovariance')",
         "-131.69752008660504",
         "63.576683423522695",
         "97.0320705491454"
        ],
        [
         "14",
         "geometry_msgs__msg__PoseWithCovariance(pose=geometry_msgs__msg__Pose(position=geometry_msgs__msg__Point(x=-131.69752008660504, y=63.576683423522695, z=97.0320705491454, __msgtype__='geometry_msgs/msg/Point'), orientation=geometry_msgs__msg__Quaternion(x=-0.09645216504903305, y=-0.6814779421451876, z=-0.3143185435049096, w=-0.653826159950691, __msgtype__='geometry_msgs/msg/Quaternion'), __msgtype__='geometry_msgs/msg/Pose'), covariance=array([156.39548804,   0.        ,   0.        ,   0.        ,\n         0.        ,   0.        ,   0.        , 156.39548804,\n         0.        ,   0.        ,   0.        ,   0.        ,\n         0.        ,   0.        , 156.39548804,   0.        ,\n         0.        ,   0.        ,   0.        ,   0.        ,\n         0.        ,  -1.        ,   0.        ,   0.        ,\n         0.        ,   0.        ,   0.        ,   0.        ,\n        -1.        ,   0.        ,   0.        ,   0.        ,\n         0.        ,   0.        ,   0.        ,  -1.        ]), __msgtype__='geometry_msgs/msg/PoseWithCovariance')",
         "-131.69752008660504",
         "63.576683423522695",
         "97.0320705491454"
        ],
        [
         "15",
         "geometry_msgs__msg__PoseWithCovariance(pose=geometry_msgs__msg__Pose(position=geometry_msgs__msg__Point(x=-131.69752008660504, y=63.576683423522695, z=97.0320705491454, __msgtype__='geometry_msgs/msg/Point'), orientation=geometry_msgs__msg__Quaternion(x=-0.09645216504903305, y=-0.6814779421451876, z=-0.3143185435049096, w=-0.653826159950691, __msgtype__='geometry_msgs/msg/Quaternion'), __msgtype__='geometry_msgs/msg/Pose'), covariance=array([156.39548804,   0.        ,   0.        ,   0.        ,\n         0.        ,   0.        ,   0.        , 156.39548804,\n         0.        ,   0.        ,   0.        ,   0.        ,\n         0.        ,   0.        , 156.39548804,   0.        ,\n         0.        ,   0.        ,   0.        ,   0.        ,\n         0.        ,  -1.        ,   0.        ,   0.        ,\n         0.        ,   0.        ,   0.        ,   0.        ,\n        -1.        ,   0.        ,   0.        ,   0.        ,\n         0.        ,   0.        ,   0.        ,  -1.        ]), __msgtype__='geometry_msgs/msg/PoseWithCovariance')",
         "-131.69752008660504",
         "63.576683423522695",
         "97.0320705491454"
        ],
        [
         "16",
         "geometry_msgs__msg__PoseWithCovariance(pose=geometry_msgs__msg__Pose(position=geometry_msgs__msg__Point(x=-131.74055124036107, y=63.524210071984086, z=97.06115405342912, __msgtype__='geometry_msgs/msg/Point'), orientation=geometry_msgs__msg__Quaternion(x=0.21038979729463922, y=-0.6490524357540725, z=0.41679058703011923, w=0.6006269019941706, __msgtype__='geometry_msgs/msg/Quaternion'), __msgtype__='geometry_msgs/msg/Pose'), covariance=array([156.39548889,   0.        ,   0.        ,   0.        ,\n         0.        ,   0.        ,   0.        , 156.39548889,\n         0.        ,   0.        ,   0.        ,   0.        ,\n         0.        ,   0.        , 156.39548889,   0.        ,\n         0.        ,   0.        ,   0.        ,   0.        ,\n         0.        ,  -1.        ,   0.        ,   0.        ,\n         0.        ,   0.        ,   0.        ,   0.        ,\n        -1.        ,   0.        ,   0.        ,   0.        ,\n         0.        ,   0.        ,   0.        ,  -1.        ]), __msgtype__='geometry_msgs/msg/PoseWithCovariance')",
         "-131.74055124036107",
         "63.524210071984086",
         "97.06115405342912"
        ],
        [
         "17",
         "geometry_msgs__msg__PoseWithCovariance(pose=geometry_msgs__msg__Pose(position=geometry_msgs__msg__Point(x=-131.74055124036107, y=63.524210071984086, z=97.06115405342912, __msgtype__='geometry_msgs/msg/Point'), orientation=geometry_msgs__msg__Quaternion(x=0.21038979729463922, y=-0.6490524357540725, z=0.41679058703011923, w=0.6006269019941706, __msgtype__='geometry_msgs/msg/Quaternion'), __msgtype__='geometry_msgs/msg/Pose'), covariance=array([156.39548889,   0.        ,   0.        ,   0.        ,\n         0.        ,   0.        ,   0.        , 156.39548889,\n         0.        ,   0.        ,   0.        ,   0.        ,\n         0.        ,   0.        , 156.39548889,   0.        ,\n         0.        ,   0.        ,   0.        ,   0.        ,\n         0.        ,  -1.        ,   0.        ,   0.        ,\n         0.        ,   0.        ,   0.        ,   0.        ,\n        -1.        ,   0.        ,   0.        ,   0.        ,\n         0.        ,   0.        ,   0.        ,  -1.        ]), __msgtype__='geometry_msgs/msg/PoseWithCovariance')",
         "-131.74055124036107",
         "63.524210071984086",
         "97.06115405342912"
        ],
        [
         "18",
         "geometry_msgs__msg__PoseWithCovariance(pose=geometry_msgs__msg__Pose(position=geometry_msgs__msg__Point(x=-131.74055124036107, y=63.524210071984086, z=97.06115405342912, __msgtype__='geometry_msgs/msg/Point'), orientation=geometry_msgs__msg__Quaternion(x=0.21038979729463922, y=-0.6490524357540725, z=0.41679058703011923, w=0.6006269019941706, __msgtype__='geometry_msgs/msg/Quaternion'), __msgtype__='geometry_msgs/msg/Pose'), covariance=array([156.39548889,   0.        ,   0.        ,   0.        ,\n         0.        ,   0.        ,   0.        , 156.39548889,\n         0.        ,   0.        ,   0.        ,   0.        ,\n         0.        ,   0.        , 156.39548889,   0.        ,\n         0.        ,   0.        ,   0.        ,   0.        ,\n         0.        ,  -1.        ,   0.        ,   0.        ,\n         0.        ,   0.        ,   0.        ,   0.        ,\n        -1.        ,   0.        ,   0.        ,   0.        ,\n         0.        ,   0.        ,   0.        ,  -1.        ]), __msgtype__='geometry_msgs/msg/PoseWithCovariance')",
         "-131.74055124036107",
         "63.524210071984086",
         "97.06115405342912"
        ],
        [
         "19",
         "geometry_msgs__msg__PoseWithCovariance(pose=geometry_msgs__msg__Pose(position=geometry_msgs__msg__Point(x=-131.802376855062, y=63.46153170017006, z=97.0824747396817, __msgtype__='geometry_msgs/msg/Point'), orientation=geometry_msgs__msg__Quaternion(x=-0.6456469426384741, y=0.2654150748070416, z=0.6737441778528537, w=0.24241214147840412, __msgtype__='geometry_msgs/msg/Quaternion'), __msgtype__='geometry_msgs/msg/Pose'), covariance=array([156.39549004,   0.        ,   0.        ,   0.        ,\n         0.        ,   0.        ,   0.        , 156.39549004,\n         0.        ,   0.        ,   0.        ,   0.        ,\n         0.        ,   0.        , 156.39549004,   0.        ,\n         0.        ,   0.        ,   0.        ,   0.        ,\n         0.        ,  -1.        ,   0.        ,   0.        ,\n         0.        ,   0.        ,   0.        ,   0.        ,\n        -1.        ,   0.        ,   0.        ,   0.        ,\n         0.        ,   0.        ,   0.        ,  -1.        ]), __msgtype__='geometry_msgs/msg/PoseWithCovariance')",
         "-131.802376855062",
         "63.46153170017006",
         "97.0824747396817"
        ],
        [
         "20",
         "geometry_msgs__msg__PoseWithCovariance(pose=geometry_msgs__msg__Pose(position=geometry_msgs__msg__Point(x=-131.802376855062, y=63.46153170017006, z=97.0824747396817, __msgtype__='geometry_msgs/msg/Point'), orientation=geometry_msgs__msg__Quaternion(x=-0.6456469426384741, y=0.2654150748070416, z=0.6737441778528537, w=0.24241214147840412, __msgtype__='geometry_msgs/msg/Quaternion'), __msgtype__='geometry_msgs/msg/Pose'), covariance=array([156.39549004,   0.        ,   0.        ,   0.        ,\n         0.        ,   0.        ,   0.        , 156.39549004,\n         0.        ,   0.        ,   0.        ,   0.        ,\n         0.        ,   0.        , 156.39549004,   0.        ,\n         0.        ,   0.        ,   0.        ,   0.        ,\n         0.        ,  -1.        ,   0.        ,   0.        ,\n         0.        ,   0.        ,   0.        ,   0.        ,\n        -1.        ,   0.        ,   0.        ,   0.        ,\n         0.        ,   0.        ,   0.        ,  -1.        ]), __msgtype__='geometry_msgs/msg/PoseWithCovariance')",
         "-131.802376855062",
         "63.46153170017006",
         "97.0824747396817"
        ],
        [
         "21",
         "geometry_msgs__msg__PoseWithCovariance(pose=geometry_msgs__msg__Pose(position=geometry_msgs__msg__Point(x=-131.802376855062, y=63.46153170017006, z=97.0824747396817, __msgtype__='geometry_msgs/msg/Point'), orientation=geometry_msgs__msg__Quaternion(x=-0.6456469426384741, y=0.2654150748070416, z=0.6737441778528537, w=0.24241214147840412, __msgtype__='geometry_msgs/msg/Quaternion'), __msgtype__='geometry_msgs/msg/Pose'), covariance=array([156.39549004,   0.        ,   0.        ,   0.        ,\n         0.        ,   0.        ,   0.        , 156.39549004,\n         0.        ,   0.        ,   0.        ,   0.        ,\n         0.        ,   0.        , 156.39549004,   0.        ,\n         0.        ,   0.        ,   0.        ,   0.        ,\n         0.        ,  -1.        ,   0.        ,   0.        ,\n         0.        ,   0.        ,   0.        ,   0.        ,\n        -1.        ,   0.        ,   0.        ,   0.        ,\n         0.        ,   0.        ,   0.        ,  -1.        ]), __msgtype__='geometry_msgs/msg/PoseWithCovariance')",
         "-131.802376855062",
         "63.46153170017006",
         "97.0824747396817"
        ],
        [
         "22",
         "geometry_msgs__msg__PoseWithCovariance(pose=geometry_msgs__msg__Pose(position=geometry_msgs__msg__Point(x=-131.8578550843707, y=63.416967931285654, z=97.09008704350472, __msgtype__='geometry_msgs/msg/Point'), orientation=geometry_msgs__msg__Quaternion(x=-0.8639530085268099, y=-0.2897471236206217, z=0.1322494560523735, w=0.39005369474586615, __msgtype__='geometry_msgs/msg/Quaternion'), __msgtype__='geometry_msgs/msg/Pose'), covariance=array([156.39549105,   0.        ,   0.        ,   0.        ,\n         0.        ,   0.        ,   0.        , 156.39549105,\n         0.        ,   0.        ,   0.        ,   0.        ,\n         0.        ,   0.        , 156.39549105,   0.        ,\n         0.        ,   0.        ,   0.        ,   0.        ,\n         0.        ,  -1.        ,   0.        ,   0.        ,\n         0.        ,   0.        ,   0.        ,   0.        ,\n        -1.        ,   0.        ,   0.        ,   0.        ,\n         0.        ,   0.        ,   0.        ,  -1.        ]), __msgtype__='geometry_msgs/msg/PoseWithCovariance')",
         "-131.8578550843707",
         "63.416967931285654",
         "97.09008704350472"
        ],
        [
         "23",
         "geometry_msgs__msg__PoseWithCovariance(pose=geometry_msgs__msg__Pose(position=geometry_msgs__msg__Point(x=-131.8578550843707, y=63.416967931285654, z=97.09008704350472, __msgtype__='geometry_msgs/msg/Point'), orientation=geometry_msgs__msg__Quaternion(x=-0.8639530085268099, y=-0.2897471236206217, z=0.1322494560523735, w=0.39005369474586615, __msgtype__='geometry_msgs/msg/Quaternion'), __msgtype__='geometry_msgs/msg/Pose'), covariance=array([156.39549105,   0.        ,   0.        ,   0.        ,\n         0.        ,   0.        ,   0.        , 156.39549105,\n         0.        ,   0.        ,   0.        ,   0.        ,\n         0.        ,   0.        , 156.39549105,   0.        ,\n         0.        ,   0.        ,   0.        ,   0.        ,\n         0.        ,  -1.        ,   0.        ,   0.        ,\n         0.        ,   0.        ,   0.        ,   0.        ,\n        -1.        ,   0.        ,   0.        ,   0.        ,\n         0.        ,   0.        ,   0.        ,  -1.        ]), __msgtype__='geometry_msgs/msg/PoseWithCovariance')",
         "-131.8578550843707",
         "63.416967931285654",
         "97.09008704350472"
        ],
        [
         "24",
         "geometry_msgs__msg__PoseWithCovariance(pose=geometry_msgs__msg__Pose(position=geometry_msgs__msg__Point(x=-131.8578550843707, y=63.416967931285654, z=97.09008704350472, __msgtype__='geometry_msgs/msg/Point'), orientation=geometry_msgs__msg__Quaternion(x=-0.8639530085268099, y=-0.2897471236206217, z=0.1322494560523735, w=0.39005369474586615, __msgtype__='geometry_msgs/msg/Quaternion'), __msgtype__='geometry_msgs/msg/Pose'), covariance=array([156.39549105,   0.        ,   0.        ,   0.        ,\n         0.        ,   0.        ,   0.        , 156.39549105,\n         0.        ,   0.        ,   0.        ,   0.        ,\n         0.        ,   0.        , 156.39549105,   0.        ,\n         0.        ,   0.        ,   0.        ,   0.        ,\n         0.        ,  -1.        ,   0.        ,   0.        ,\n         0.        ,   0.        ,   0.        ,   0.        ,\n        -1.        ,   0.        ,   0.        ,   0.        ,\n         0.        ,   0.        ,   0.        ,  -1.        ]), __msgtype__='geometry_msgs/msg/PoseWithCovariance')",
         "-131.8578550843707",
         "63.416967931285654",
         "97.09008704350472"
        ],
        [
         "25",
         "geometry_msgs__msg__PoseWithCovariance(pose=geometry_msgs__msg__Pose(position=geometry_msgs__msg__Point(x=-131.90533377915165, y=63.38347078447245, z=97.09223869719276, __msgtype__='geometry_msgs/msg/Point'), orientation=geometry_msgs__msg__Quaternion(x=-0.5393825079056802, y=-0.4483417118791726, z=-0.5508403411034594, w=0.4523617337570191, __msgtype__='geometry_msgs/msg/Quaternion'), __msgtype__='geometry_msgs/msg/Pose'), covariance=array([156.39549194,   0.        ,   0.        ,   0.        ,\n         0.        ,   0.        ,   0.        , 156.39549194,\n         0.        ,   0.        ,   0.        ,   0.        ,\n         0.        ,   0.        , 156.39549194,   0.        ,\n         0.        ,   0.        ,   0.        ,   0.        ,\n         0.        ,  -1.        ,   0.        ,   0.        ,\n         0.        ,   0.        ,   0.        ,   0.        ,\n        -1.        ,   0.        ,   0.        ,   0.        ,\n         0.        ,   0.        ,   0.        ,  -1.        ]), __msgtype__='geometry_msgs/msg/PoseWithCovariance')",
         "-131.90533377915165",
         "63.38347078447245",
         "97.09223869719276"
        ],
        [
         "26",
         "geometry_msgs__msg__PoseWithCovariance(pose=geometry_msgs__msg__Pose(position=geometry_msgs__msg__Point(x=-131.90533377915165, y=63.38347078447245, z=97.09223869719276, __msgtype__='geometry_msgs/msg/Point'), orientation=geometry_msgs__msg__Quaternion(x=-0.5393825079056802, y=-0.4483417118791726, z=-0.5508403411034594, w=0.4523617337570191, __msgtype__='geometry_msgs/msg/Quaternion'), __msgtype__='geometry_msgs/msg/Pose'), covariance=array([156.39549194,   0.        ,   0.        ,   0.        ,\n         0.        ,   0.        ,   0.        , 156.39549194,\n         0.        ,   0.        ,   0.        ,   0.        ,\n         0.        ,   0.        , 156.39549194,   0.        ,\n         0.        ,   0.        ,   0.        ,   0.        ,\n         0.        ,  -1.        ,   0.        ,   0.        ,\n         0.        ,   0.        ,   0.        ,   0.        ,\n        -1.        ,   0.        ,   0.        ,   0.        ,\n         0.        ,   0.        ,   0.        ,  -1.        ]), __msgtype__='geometry_msgs/msg/PoseWithCovariance')",
         "-131.90533377915165",
         "63.38347078447245",
         "97.09223869719276"
        ],
        [
         "27",
         "geometry_msgs__msg__PoseWithCovariance(pose=geometry_msgs__msg__Pose(position=geometry_msgs__msg__Point(x=-131.90533377915165, y=63.38347078447245, z=97.09223869719276, __msgtype__='geometry_msgs/msg/Point'), orientation=geometry_msgs__msg__Quaternion(x=-0.5393825079056802, y=-0.4483417118791726, z=-0.5508403411034594, w=0.4523617337570191, __msgtype__='geometry_msgs/msg/Quaternion'), __msgtype__='geometry_msgs/msg/Pose'), covariance=array([156.39549194,   0.        ,   0.        ,   0.        ,\n         0.        ,   0.        ,   0.        , 156.39549194,\n         0.        ,   0.        ,   0.        ,   0.        ,\n         0.        ,   0.        , 156.39549194,   0.        ,\n         0.        ,   0.        ,   0.        ,   0.        ,\n         0.        ,  -1.        ,   0.        ,   0.        ,\n         0.        ,   0.        ,   0.        ,   0.        ,\n        -1.        ,   0.        ,   0.        ,   0.        ,\n         0.        ,   0.        ,   0.        ,  -1.        ]), __msgtype__='geometry_msgs/msg/PoseWithCovariance')",
         "-131.90533377915165",
         "63.38347078447245",
         "97.09223869719276"
        ],
        [
         "28",
         "geometry_msgs__msg__PoseWithCovariance(pose=geometry_msgs__msg__Pose(position=geometry_msgs__msg__Point(x=-131.9429094910909, y=63.35652916457924, z=97.09910792391919, __msgtype__='geometry_msgs/msg/Point'), orientation=geometry_msgs__msg__Quaternion(x=0.6055246221232635, y=-0.18763150996304634, z=0.7538586729285299, w=0.1727178326690717, __msgtype__='geometry_msgs/msg/Quaternion'), __msgtype__='geometry_msgs/msg/Pose'), covariance=array([156.39549271,   0.        ,   0.        ,   0.        ,\n         0.        ,   0.        ,   0.        , 156.39549271,\n         0.        ,   0.        ,   0.        ,   0.        ,\n         0.        ,   0.        , 156.39549271,   0.        ,\n         0.        ,   0.        ,   0.        ,   0.        ,\n         0.        ,  -1.        ,   0.        ,   0.        ,\n         0.        ,   0.        ,   0.        ,   0.        ,\n        -1.        ,   0.        ,   0.        ,   0.        ,\n         0.        ,   0.        ,   0.        ,  -1.        ]), __msgtype__='geometry_msgs/msg/PoseWithCovariance')",
         "-131.9429094910909",
         "63.35652916457924",
         "97.09910792391919"
        ],
        [
         "29",
         "geometry_msgs__msg__PoseWithCovariance(pose=geometry_msgs__msg__Pose(position=geometry_msgs__msg__Point(x=-131.9429094910909, y=63.35652916457924, z=97.09910792391919, __msgtype__='geometry_msgs/msg/Point'), orientation=geometry_msgs__msg__Quaternion(x=0.6055246221232635, y=-0.18763150996304634, z=0.7538586729285299, w=0.1727178326690717, __msgtype__='geometry_msgs/msg/Quaternion'), __msgtype__='geometry_msgs/msg/Pose'), covariance=array([156.39549271,   0.        ,   0.        ,   0.        ,\n         0.        ,   0.        ,   0.        , 156.39549271,\n         0.        ,   0.        ,   0.        ,   0.        ,\n         0.        ,   0.        , 156.39549271,   0.        ,\n         0.        ,   0.        ,   0.        ,   0.        ,\n         0.        ,  -1.        ,   0.        ,   0.        ,\n         0.        ,   0.        ,   0.        ,   0.        ,\n        -1.        ,   0.        ,   0.        ,   0.        ,\n         0.        ,   0.        ,   0.        ,  -1.        ]), __msgtype__='geometry_msgs/msg/PoseWithCovariance')",
         "-131.9429094910909",
         "63.35652916457924",
         "97.09910792391919"
        ],
        [
         "30",
         "geometry_msgs__msg__PoseWithCovariance(pose=geometry_msgs__msg__Pose(position=geometry_msgs__msg__Point(x=-131.9429094910909, y=63.35652916457924, z=97.09910792391919, __msgtype__='geometry_msgs/msg/Point'), orientation=geometry_msgs__msg__Quaternion(x=0.6055246221232635, y=-0.18763150996304634, z=0.7538586729285299, w=0.1727178326690717, __msgtype__='geometry_msgs/msg/Quaternion'), __msgtype__='geometry_msgs/msg/Pose'), covariance=array([156.39549271,   0.        ,   0.        ,   0.        ,\n         0.        ,   0.        ,   0.        , 156.39549271,\n         0.        ,   0.        ,   0.        ,   0.        ,\n         0.        ,   0.        , 156.39549271,   0.        ,\n         0.        ,   0.        ,   0.        ,   0.        ,\n         0.        ,  -1.        ,   0.        ,   0.        ,\n         0.        ,   0.        ,   0.        ,   0.        ,\n        -1.        ,   0.        ,   0.        ,   0.        ,\n         0.        ,   0.        ,   0.        ,  -1.        ]), __msgtype__='geometry_msgs/msg/PoseWithCovariance')",
         "-131.9429094910909",
         "63.35652916457924",
         "97.09910792391919"
        ],
        [
         "31",
         "geometry_msgs__msg__PoseWithCovariance(pose=geometry_msgs__msg__Pose(position=geometry_msgs__msg__Point(x=-131.9761271676024, y=63.33347766776182, z=97.1112895765726, __msgtype__='geometry_msgs/msg/Point'), orientation=geometry_msgs__msg__Quaternion(x=0.027158515469939325, y=-0.7874575021933746, z=-0.40351040426695595, w=-0.46513702381680855, __msgtype__='geometry_msgs/msg/Quaternion'), __msgtype__='geometry_msgs/msg/Pose'), covariance=array([156.39549341,   0.        ,   0.        ,   0.        ,\n         0.        ,   0.        ,   0.        , 156.39549341,\n         0.        ,   0.        ,   0.        ,   0.        ,\n         0.        ,   0.        , 156.39549341,   0.        ,\n         0.        ,   0.        ,   0.        ,   0.        ,\n         0.        ,  -1.        ,   0.        ,   0.        ,\n         0.        ,   0.        ,   0.        ,   0.        ,\n        -1.        ,   0.        ,   0.        ,   0.        ,\n         0.        ,   0.        ,   0.        ,  -1.        ]), __msgtype__='geometry_msgs/msg/PoseWithCovariance')",
         "-131.9761271676024",
         "63.33347766776182",
         "97.1112895765726"
        ],
        [
         "32",
         "geometry_msgs__msg__PoseWithCovariance(pose=geometry_msgs__msg__Pose(position=geometry_msgs__msg__Point(x=-131.9761271676024, y=63.33347766776182, z=97.1112895765726, __msgtype__='geometry_msgs/msg/Point'), orientation=geometry_msgs__msg__Quaternion(x=0.027158515469939325, y=-0.7874575021933746, z=-0.40351040426695595, w=-0.46513702381680855, __msgtype__='geometry_msgs/msg/Quaternion'), __msgtype__='geometry_msgs/msg/Pose'), covariance=array([156.39549341,   0.        ,   0.        ,   0.        ,\n         0.        ,   0.        ,   0.        , 156.39549341,\n         0.        ,   0.        ,   0.        ,   0.        ,\n         0.        ,   0.        , 156.39549341,   0.        ,\n         0.        ,   0.        ,   0.        ,   0.        ,\n         0.        ,  -1.        ,   0.        ,   0.        ,\n         0.        ,   0.        ,   0.        ,   0.        ,\n        -1.        ,   0.        ,   0.        ,   0.        ,\n         0.        ,   0.        ,   0.        ,  -1.        ]), __msgtype__='geometry_msgs/msg/PoseWithCovariance')",
         "-131.9761271676024",
         "63.33347766776182",
         "97.1112895765726"
        ],
        [
         "33",
         "geometry_msgs__msg__PoseWithCovariance(pose=geometry_msgs__msg__Pose(position=geometry_msgs__msg__Point(x=-131.9761271676024, y=63.33347766776182, z=97.1112895765726, __msgtype__='geometry_msgs/msg/Point'), orientation=geometry_msgs__msg__Quaternion(x=0.027158515469939325, y=-0.7874575021933746, z=-0.40351040426695595, w=-0.46513702381680855, __msgtype__='geometry_msgs/msg/Quaternion'), __msgtype__='geometry_msgs/msg/Pose'), covariance=array([156.39549341,   0.        ,   0.        ,   0.        ,\n         0.        ,   0.        ,   0.        , 156.39549341,\n         0.        ,   0.        ,   0.        ,   0.        ,\n         0.        ,   0.        , 156.39549341,   0.        ,\n         0.        ,   0.        ,   0.        ,   0.        ,\n         0.        ,  -1.        ,   0.        ,   0.        ,\n         0.        ,   0.        ,   0.        ,   0.        ,\n        -1.        ,   0.        ,   0.        ,   0.        ,\n         0.        ,   0.        ,   0.        ,  -1.        ]), __msgtype__='geometry_msgs/msg/PoseWithCovariance')",
         "-131.9761271676024",
         "63.33347766776182",
         "97.1112895765726"
        ],
        [
         "34",
         "geometry_msgs__msg__PoseWithCovariance(pose=geometry_msgs__msg__Pose(position=geometry_msgs__msg__Point(x=-132.00852316033533, y=63.31070822575422, z=97.13127421854198, __msgtype__='geometry_msgs/msg/Point'), orientation=geometry_msgs__msg__Quaternion(x=0.919768726283824, y=0.2564404138355511, z=0.2228545096412455, w=0.19646799188326636, __msgtype__='geometry_msgs/msg/Quaternion'), __msgtype__='geometry_msgs/msg/Pose'), covariance=array([156.39549414,   0.        ,   0.        ,   0.        ,\n         0.        ,   0.        ,   0.        , 156.39549414,\n         0.        ,   0.        ,   0.        ,   0.        ,\n         0.        ,   0.        , 156.39549414,   0.        ,\n         0.        ,   0.        ,   0.        ,   0.        ,\n         0.        ,  -1.        ,   0.        ,   0.        ,\n         0.        ,   0.        ,   0.        ,   0.        ,\n        -1.        ,   0.        ,   0.        ,   0.        ,\n         0.        ,   0.        ,   0.        ,  -1.        ]), __msgtype__='geometry_msgs/msg/PoseWithCovariance')",
         "-132.00852316033533",
         "63.31070822575422",
         "97.13127421854198"
        ],
        [
         "35",
         "geometry_msgs__msg__PoseWithCovariance(pose=geometry_msgs__msg__Pose(position=geometry_msgs__msg__Point(x=-132.00852316033533, y=63.31070822575422, z=97.13127421854198, __msgtype__='geometry_msgs/msg/Point'), orientation=geometry_msgs__msg__Quaternion(x=0.919768726283824, y=0.2564404138355511, z=0.2228545096412455, w=0.19646799188326636, __msgtype__='geometry_msgs/msg/Quaternion'), __msgtype__='geometry_msgs/msg/Pose'), covariance=array([156.39549414,   0.        ,   0.        ,   0.        ,\n         0.        ,   0.        ,   0.        , 156.39549414,\n         0.        ,   0.        ,   0.        ,   0.        ,\n         0.        ,   0.        , 156.39549414,   0.        ,\n         0.        ,   0.        ,   0.        ,   0.        ,\n         0.        ,  -1.        ,   0.        ,   0.        ,\n         0.        ,   0.        ,   0.        ,   0.        ,\n        -1.        ,   0.        ,   0.        ,   0.        ,\n         0.        ,   0.        ,   0.        ,  -1.        ]), __msgtype__='geometry_msgs/msg/PoseWithCovariance')",
         "-132.00852316033533",
         "63.31070822575422",
         "97.13127421854198"
        ],
        [
         "36",
         "geometry_msgs__msg__PoseWithCovariance(pose=geometry_msgs__msg__Pose(position=geometry_msgs__msg__Point(x=-132.00852316033533, y=63.31070822575422, z=97.13127421854198, __msgtype__='geometry_msgs/msg/Point'), orientation=geometry_msgs__msg__Quaternion(x=0.919768726283824, y=0.2564404138355511, z=0.2228545096412455, w=0.19646799188326636, __msgtype__='geometry_msgs/msg/Quaternion'), __msgtype__='geometry_msgs/msg/Pose'), covariance=array([156.39549414,   0.        ,   0.        ,   0.        ,\n         0.        ,   0.        ,   0.        , 156.39549414,\n         0.        ,   0.        ,   0.        ,   0.        ,\n         0.        ,   0.        , 156.39549414,   0.        ,\n         0.        ,   0.        ,   0.        ,   0.        ,\n         0.        ,  -1.        ,   0.        ,   0.        ,\n         0.        ,   0.        ,   0.        ,   0.        ,\n        -1.        ,   0.        ,   0.        ,   0.        ,\n         0.        ,   0.        ,   0.        ,  -1.        ]), __msgtype__='geometry_msgs/msg/PoseWithCovariance')",
         "-132.00852316033533",
         "63.31070822575422",
         "97.13127421854198"
        ],
        [
         "37",
         "geometry_msgs__msg__PoseWithCovariance(pose=geometry_msgs__msg__Pose(position=geometry_msgs__msg__Point(x=-132.0406626353785, y=63.28955238434179, z=97.15293966004315, __msgtype__='geometry_msgs/msg/Point'), orientation=geometry_msgs__msg__Quaternion(x=0.6147525082691395, y=-0.47214527523383565, z=0.40429377113976717, w=0.4854943246514347, __msgtype__='geometry_msgs/msg/Quaternion'), __msgtype__='geometry_msgs/msg/Pose'), covariance=array([156.39549487,   0.        ,   0.        ,   0.        ,\n         0.        ,   0.        ,   0.        , 156.39549487,\n         0.        ,   0.        ,   0.        ,   0.        ,\n         0.        ,   0.        , 156.39549487,   0.        ,\n         0.        ,   0.        ,   0.        ,   0.        ,\n         0.        ,  -1.        ,   0.        ,   0.        ,\n         0.        ,   0.        ,   0.        ,   0.        ,\n        -1.        ,   0.        ,   0.        ,   0.        ,\n         0.        ,   0.        ,   0.        ,  -1.        ]), __msgtype__='geometry_msgs/msg/PoseWithCovariance')",
         "-132.0406626353785",
         "63.28955238434179",
         "97.15293966004315"
        ],
        [
         "38",
         "geometry_msgs__msg__PoseWithCovariance(pose=geometry_msgs__msg__Pose(position=geometry_msgs__msg__Point(x=-132.0406626353785, y=63.28955238434179, z=97.15293966004315, __msgtype__='geometry_msgs/msg/Point'), orientation=geometry_msgs__msg__Quaternion(x=0.6147525082691395, y=-0.47214527523383565, z=0.40429377113976717, w=0.4854943246514347, __msgtype__='geometry_msgs/msg/Quaternion'), __msgtype__='geometry_msgs/msg/Pose'), covariance=array([156.39549487,   0.        ,   0.        ,   0.        ,\n         0.        ,   0.        ,   0.        , 156.39549487,\n         0.        ,   0.        ,   0.        ,   0.        ,\n         0.        ,   0.        , 156.39549487,   0.        ,\n         0.        ,   0.        ,   0.        ,   0.        ,\n         0.        ,  -1.        ,   0.        ,   0.        ,\n         0.        ,   0.        ,   0.        ,   0.        ,\n        -1.        ,   0.        ,   0.        ,   0.        ,\n         0.        ,   0.        ,   0.        ,  -1.        ]), __msgtype__='geometry_msgs/msg/PoseWithCovariance')",
         "-132.0406626353785",
         "63.28955238434179",
         "97.15293966004315"
        ],
        [
         "39",
         "geometry_msgs__msg__PoseWithCovariance(pose=geometry_msgs__msg__Pose(position=geometry_msgs__msg__Point(x=-132.0406626353785, y=63.28955238434179, z=97.15293966004315, __msgtype__='geometry_msgs/msg/Point'), orientation=geometry_msgs__msg__Quaternion(x=0.6147525082691395, y=-0.47214527523383565, z=0.40429377113976717, w=0.4854943246514347, __msgtype__='geometry_msgs/msg/Quaternion'), __msgtype__='geometry_msgs/msg/Pose'), covariance=array([156.39549487,   0.        ,   0.        ,   0.        ,\n         0.        ,   0.        ,   0.        , 156.39549487,\n         0.        ,   0.        ,   0.        ,   0.        ,\n         0.        ,   0.        , 156.39549487,   0.        ,\n         0.        ,   0.        ,   0.        ,   0.        ,\n         0.        ,  -1.        ,   0.        ,   0.        ,\n         0.        ,   0.        ,   0.        ,   0.        ,\n        -1.        ,   0.        ,   0.        ,   0.        ,\n         0.        ,   0.        ,   0.        ,  -1.        ]), __msgtype__='geometry_msgs/msg/PoseWithCovariance')",
         "-132.0406626353785",
         "63.28955238434179",
         "97.15293966004315"
        ],
        [
         "40",
         "geometry_msgs__msg__PoseWithCovariance(pose=geometry_msgs__msg__Pose(position=geometry_msgs__msg__Point(x=-132.0740815298437, y=63.271811411394005, z=97.17099246657483, __msgtype__='geometry_msgs/msg/Point'), orientation=geometry_msgs__msg__Quaternion(x=-0.5756149942962836, y=-0.7412356459200666, z=-0.2714815019403077, w=0.21338905703663757, __msgtype__='geometry_msgs/msg/Quaternion'), __msgtype__='geometry_msgs/msg/Pose'), covariance=array([156.39549554,   0.        ,   0.        ,   0.        ,\n         0.        ,   0.        ,   0.        , 156.39549554,\n         0.        ,   0.        ,   0.        ,   0.        ,\n         0.        ,   0.        , 156.39549554,   0.        ,\n         0.        ,   0.        ,   0.        ,   0.        ,\n         0.        ,  -1.        ,   0.        ,   0.        ,\n         0.        ,   0.        ,   0.        ,   0.        ,\n        -1.        ,   0.        ,   0.        ,   0.        ,\n         0.        ,   0.        ,   0.        ,  -1.        ]), __msgtype__='geometry_msgs/msg/PoseWithCovariance')",
         "-132.0740815298437",
         "63.271811411394005",
         "97.17099246657483"
        ],
        [
         "41",
         "geometry_msgs__msg__PoseWithCovariance(pose=geometry_msgs__msg__Pose(position=geometry_msgs__msg__Point(x=-132.0740815298437, y=63.271811411394005, z=97.17099246657483, __msgtype__='geometry_msgs/msg/Point'), orientation=geometry_msgs__msg__Quaternion(x=-0.5756149942962836, y=-0.7412356459200666, z=-0.2714815019403077, w=0.21338905703663757, __msgtype__='geometry_msgs/msg/Quaternion'), __msgtype__='geometry_msgs/msg/Pose'), covariance=array([156.39549554,   0.        ,   0.        ,   0.        ,\n         0.        ,   0.        ,   0.        , 156.39549554,\n         0.        ,   0.        ,   0.        ,   0.        ,\n         0.        ,   0.        , 156.39549554,   0.        ,\n         0.        ,   0.        ,   0.        ,   0.        ,\n         0.        ,  -1.        ,   0.        ,   0.        ,\n         0.        ,   0.        ,   0.        ,   0.        ,\n        -1.        ,   0.        ,   0.        ,   0.        ,\n         0.        ,   0.        ,   0.        ,  -1.        ]), __msgtype__='geometry_msgs/msg/PoseWithCovariance')",
         "-132.0740815298437",
         "63.271811411394005",
         "97.17099246657483"
        ],
        [
         "42",
         "geometry_msgs__msg__PoseWithCovariance(pose=geometry_msgs__msg__Pose(position=geometry_msgs__msg__Point(x=-132.0740815298437, y=63.271811411394005, z=97.17099246657483, __msgtype__='geometry_msgs/msg/Point'), orientation=geometry_msgs__msg__Quaternion(x=-0.5756149942962836, y=-0.7412356459200666, z=-0.2714815019403077, w=0.21338905703663757, __msgtype__='geometry_msgs/msg/Quaternion'), __msgtype__='geometry_msgs/msg/Pose'), covariance=array([156.39549554,   0.        ,   0.        ,   0.        ,\n         0.        ,   0.        ,   0.        , 156.39549554,\n         0.        ,   0.        ,   0.        ,   0.        ,\n         0.        ,   0.        , 156.39549554,   0.        ,\n         0.        ,   0.        ,   0.        ,   0.        ,\n         0.        ,  -1.        ,   0.        ,   0.        ,\n         0.        ,   0.        ,   0.        ,   0.        ,\n        -1.        ,   0.        ,   0.        ,   0.        ,\n         0.        ,   0.        ,   0.        ,  -1.        ]), __msgtype__='geometry_msgs/msg/PoseWithCovariance')",
         "-132.0740815298437",
         "63.271811411394005",
         "97.17099246657483"
        ],
        [
         "43",
         "geometry_msgs__msg__PoseWithCovariance(pose=geometry_msgs__msg__Pose(position=geometry_msgs__msg__Point(x=-132.10806070832376, y=63.256928863350694, z=97.1883879488927, __msgtype__='geometry_msgs/msg/Point'), orientation=geometry_msgs__msg__Quaternion(x=-0.5850738261542895, y=0.5702140376345608, z=0.2726885837482438, w=-0.5081195779804679, __msgtype__='geometry_msgs/msg/Quaternion'), __msgtype__='geometry_msgs/msg/Pose'), covariance=array([156.39549626,   0.        ,   0.        ,   0.        ,\n         0.        ,   0.        ,   0.        , 156.39549626,\n         0.        ,   0.        ,   0.        ,   0.        ,\n         0.        ,   0.        , 156.39549626,   0.        ,\n         0.        ,   0.        ,   0.        ,   0.        ,\n         0.        ,  -1.        ,   0.        ,   0.        ,\n         0.        ,   0.        ,   0.        ,   0.        ,\n        -1.        ,   0.        ,   0.        ,   0.        ,\n         0.        ,   0.        ,   0.        ,  -1.        ]), __msgtype__='geometry_msgs/msg/PoseWithCovariance')",
         "-132.10806070832376",
         "63.256928863350694",
         "97.1883879488927"
        ],
        [
         "44",
         "geometry_msgs__msg__PoseWithCovariance(pose=geometry_msgs__msg__Pose(position=geometry_msgs__msg__Point(x=-132.10806070832376, y=63.256928863350694, z=97.1883879488927, __msgtype__='geometry_msgs/msg/Point'), orientation=geometry_msgs__msg__Quaternion(x=-0.5850738261542895, y=0.5702140376345608, z=0.2726885837482438, w=-0.5081195779804679, __msgtype__='geometry_msgs/msg/Quaternion'), __msgtype__='geometry_msgs/msg/Pose'), covariance=array([156.39549626,   0.        ,   0.        ,   0.        ,\n         0.        ,   0.        ,   0.        , 156.39549626,\n         0.        ,   0.        ,   0.        ,   0.        ,\n         0.        ,   0.        , 156.39549626,   0.        ,\n         0.        ,   0.        ,   0.        ,   0.        ,\n         0.        ,  -1.        ,   0.        ,   0.        ,\n         0.        ,   0.        ,   0.        ,   0.        ,\n        -1.        ,   0.        ,   0.        ,   0.        ,\n         0.        ,   0.        ,   0.        ,  -1.        ]), __msgtype__='geometry_msgs/msg/PoseWithCovariance')",
         "-132.10806070832376",
         "63.256928863350694",
         "97.1883879488927"
        ],
        [
         "45",
         "geometry_msgs__msg__PoseWithCovariance(pose=geometry_msgs__msg__Pose(position=geometry_msgs__msg__Point(x=-132.10806070832376, y=63.256928863350694, z=97.1883879488927, __msgtype__='geometry_msgs/msg/Point'), orientation=geometry_msgs__msg__Quaternion(x=-0.5850738261542895, y=0.5702140376345608, z=0.2726885837482438, w=-0.5081195779804679, __msgtype__='geometry_msgs/msg/Quaternion'), __msgtype__='geometry_msgs/msg/Pose'), covariance=array([156.39549626,   0.        ,   0.        ,   0.        ,\n         0.        ,   0.        ,   0.        , 156.39549626,\n         0.        ,   0.        ,   0.        ,   0.        ,\n         0.        ,   0.        , 156.39549626,   0.        ,\n         0.        ,   0.        ,   0.        ,   0.        ,\n         0.        ,  -1.        ,   0.        ,   0.        ,\n         0.        ,   0.        ,   0.        ,   0.        ,\n        -1.        ,   0.        ,   0.        ,   0.        ,\n         0.        ,   0.        ,   0.        ,  -1.        ]), __msgtype__='geometry_msgs/msg/PoseWithCovariance')",
         "-132.10806070832376",
         "63.256928863350694",
         "97.1883879488927"
        ],
        [
         "46",
         "geometry_msgs__msg__PoseWithCovariance(pose=geometry_msgs__msg__Pose(position=geometry_msgs__msg__Point(x=-132.1397549020724, y=63.245976320805745, z=97.20573313493644, __msgtype__='geometry_msgs/msg/Point'), orientation=geometry_msgs__msg__Quaternion(x=-0.0059759183168544144, y=0.3466937820785851, z=0.7855145263124803, w=0.5125764711927346, __msgtype__='geometry_msgs/msg/Quaternion'), __msgtype__='geometry_msgs/msg/Pose'), covariance=array([156.39549693,   0.        ,   0.        ,   0.        ,\n         0.        ,   0.        ,   0.        , 156.39549693,\n         0.        ,   0.        ,   0.        ,   0.        ,\n         0.        ,   0.        , 156.39549693,   0.        ,\n         0.        ,   0.        ,   0.        ,   0.        ,\n         0.        ,  -1.        ,   0.        ,   0.        ,\n         0.        ,   0.        ,   0.        ,   0.        ,\n        -1.        ,   0.        ,   0.        ,   0.        ,\n         0.        ,   0.        ,   0.        ,  -1.        ]), __msgtype__='geometry_msgs/msg/PoseWithCovariance')",
         "-132.1397549020724",
         "63.245976320805745",
         "97.20573313493644"
        ],
        [
         "47",
         "geometry_msgs__msg__PoseWithCovariance(pose=geometry_msgs__msg__Pose(position=geometry_msgs__msg__Point(x=-132.1397549020724, y=63.245976320805745, z=97.20573313493644, __msgtype__='geometry_msgs/msg/Point'), orientation=geometry_msgs__msg__Quaternion(x=-0.0059759183168544144, y=0.3466937820785851, z=0.7855145263124803, w=0.5125764711927346, __msgtype__='geometry_msgs/msg/Quaternion'), __msgtype__='geometry_msgs/msg/Pose'), covariance=array([156.39549693,   0.        ,   0.        ,   0.        ,\n         0.        ,   0.        ,   0.        , 156.39549693,\n         0.        ,   0.        ,   0.        ,   0.        ,\n         0.        ,   0.        , 156.39549693,   0.        ,\n         0.        ,   0.        ,   0.        ,   0.        ,\n         0.        ,  -1.        ,   0.        ,   0.        ,\n         0.        ,   0.        ,   0.        ,   0.        ,\n        -1.        ,   0.        ,   0.        ,   0.        ,\n         0.        ,   0.        ,   0.        ,  -1.        ]), __msgtype__='geometry_msgs/msg/PoseWithCovariance')",
         "-132.1397549020724",
         "63.245976320805745",
         "97.20573313493644"
        ],
        [
         "48",
         "geometry_msgs__msg__PoseWithCovariance(pose=geometry_msgs__msg__Pose(position=geometry_msgs__msg__Point(x=-132.1397549020724, y=63.245976320805745, z=97.20573313493644, __msgtype__='geometry_msgs/msg/Point'), orientation=geometry_msgs__msg__Quaternion(x=-0.0059759183168544144, y=0.3466937820785851, z=0.7855145263124803, w=0.5125764711927346, __msgtype__='geometry_msgs/msg/Quaternion'), __msgtype__='geometry_msgs/msg/Pose'), covariance=array([156.39549693,   0.        ,   0.        ,   0.        ,\n         0.        ,   0.        ,   0.        , 156.39549693,\n         0.        ,   0.        ,   0.        ,   0.        ,\n         0.        ,   0.        , 156.39549693,   0.        ,\n         0.        ,   0.        ,   0.        ,   0.        ,\n         0.        ,  -1.        ,   0.        ,   0.        ,\n         0.        ,   0.        ,   0.        ,   0.        ,\n        -1.        ,   0.        ,   0.        ,   0.        ,\n         0.        ,   0.        ,   0.        ,  -1.        ]), __msgtype__='geometry_msgs/msg/PoseWithCovariance')",
         "-132.1397549020724",
         "63.245976320805745",
         "97.20573313493644"
        ],
        [
         "49",
         "geometry_msgs__msg__PoseWithCovariance(pose=geometry_msgs__msg__Pose(position=geometry_msgs__msg__Point(x=-132.1740288488035, y=63.229185018996496, z=97.2247888315933, __msgtype__='geometry_msgs/msg/Point'), orientation=geometry_msgs__msg__Quaternion(x=-0.024096431484208165, y=-0.6899767837935163, z=0.095760688975807, w=-0.7170643557328455, __msgtype__='geometry_msgs/msg/Quaternion'), __msgtype__='geometry_msgs/msg/Pose'), covariance=array([156.39549762,   0.        ,   0.        ,   0.        ,\n         0.        ,   0.        ,   0.        , 156.39549762,\n         0.        ,   0.        ,   0.        ,   0.        ,\n         0.        ,   0.        , 156.39549762,   0.        ,\n         0.        ,   0.        ,   0.        ,   0.        ,\n         0.        ,  -1.        ,   0.        ,   0.        ,\n         0.        ,   0.        ,   0.        ,   0.        ,\n        -1.        ,   0.        ,   0.        ,   0.        ,\n         0.        ,   0.        ,   0.        ,  -1.        ]), __msgtype__='geometry_msgs/msg/PoseWithCovariance')",
         "-132.1740288488035",
         "63.229185018996496",
         "97.2247888315933"
        ]
       ],
       "shape": {
        "columns": 4,
        "rows": 6268
       }
      },
      "text/html": [
       "<div>\n",
       "<style scoped>\n",
       "    .dataframe tbody tr th:only-of-type {\n",
       "        vertical-align: middle;\n",
       "    }\n",
       "\n",
       "    .dataframe tbody tr th {\n",
       "        vertical-align: top;\n",
       "    }\n",
       "\n",
       "    .dataframe thead th {\n",
       "        text-align: right;\n",
       "    }\n",
       "</style>\n",
       "<table border=\"1\" class=\"dataframe\">\n",
       "  <thead>\n",
       "    <tr style=\"text-align: right;\">\n",
       "      <th></th>\n",
       "      <th>pose</th>\n",
       "      <th>x</th>\n",
       "      <th>y</th>\n",
       "      <th>z</th>\n",
       "    </tr>\n",
       "  </thead>\n",
       "  <tbody>\n",
       "    <tr>\n",
       "      <th>0</th>\n",
       "      <td>geometry_msgs__msg__PoseWithCovariance(pose=ge...</td>\n",
       "      <td>-131.742229</td>\n",
       "      <td>63.606814</td>\n",
       "      <td>96.984019</td>\n",
       "    </tr>\n",
       "    <tr>\n",
       "      <th>1</th>\n",
       "      <td>geometry_msgs__msg__PoseWithCovariance(pose=ge...</td>\n",
       "      <td>-131.770184</td>\n",
       "      <td>63.616275</td>\n",
       "      <td>96.997350</td>\n",
       "    </tr>\n",
       "    <tr>\n",
       "      <th>2</th>\n",
       "      <td>geometry_msgs__msg__PoseWithCovariance(pose=ge...</td>\n",
       "      <td>-131.770184</td>\n",
       "      <td>63.616275</td>\n",
       "      <td>96.997350</td>\n",
       "    </tr>\n",
       "    <tr>\n",
       "      <th>3</th>\n",
       "      <td>geometry_msgs__msg__PoseWithCovariance(pose=ge...</td>\n",
       "      <td>-131.770184</td>\n",
       "      <td>63.616275</td>\n",
       "      <td>96.997350</td>\n",
       "    </tr>\n",
       "    <tr>\n",
       "      <th>4</th>\n",
       "      <td>geometry_msgs__msg__PoseWithCovariance(pose=ge...</td>\n",
       "      <td>-131.749999</td>\n",
       "      <td>63.571729</td>\n",
       "      <td>96.980551</td>\n",
       "    </tr>\n",
       "    <tr>\n",
       "      <th>...</th>\n",
       "      <td>...</td>\n",
       "      <td>...</td>\n",
       "      <td>...</td>\n",
       "      <td>...</td>\n",
       "    </tr>\n",
       "    <tr>\n",
       "      <th>6263</th>\n",
       "      <td>geometry_msgs__msg__PoseWithCovariance(pose=ge...</td>\n",
       "      <td>848.404652</td>\n",
       "      <td>-3746.345416</td>\n",
       "      <td>-809.062337</td>\n",
       "    </tr>\n",
       "    <tr>\n",
       "      <th>6264</th>\n",
       "      <td>geometry_msgs__msg__PoseWithCovariance(pose=ge...</td>\n",
       "      <td>848.404652</td>\n",
       "      <td>-3746.345416</td>\n",
       "      <td>-809.062337</td>\n",
       "    </tr>\n",
       "    <tr>\n",
       "      <th>6265</th>\n",
       "      <td>geometry_msgs__msg__PoseWithCovariance(pose=ge...</td>\n",
       "      <td>862.287169</td>\n",
       "      <td>-3769.620552</td>\n",
       "      <td>-817.115998</td>\n",
       "    </tr>\n",
       "    <tr>\n",
       "      <th>6266</th>\n",
       "      <td>geometry_msgs__msg__PoseWithCovariance(pose=ge...</td>\n",
       "      <td>862.287169</td>\n",
       "      <td>-3769.620552</td>\n",
       "      <td>-817.115998</td>\n",
       "    </tr>\n",
       "    <tr>\n",
       "      <th>6267</th>\n",
       "      <td>geometry_msgs__msg__PoseWithCovariance(pose=ge...</td>\n",
       "      <td>879.918687</td>\n",
       "      <td>-3799.664205</td>\n",
       "      <td>-827.436665</td>\n",
       "    </tr>\n",
       "  </tbody>\n",
       "</table>\n",
       "<p>6268 rows × 4 columns</p>\n",
       "</div>"
      ],
      "text/plain": [
       "                                                   pose           x  \\\n",
       "0     geometry_msgs__msg__PoseWithCovariance(pose=ge... -131.742229   \n",
       "1     geometry_msgs__msg__PoseWithCovariance(pose=ge... -131.770184   \n",
       "2     geometry_msgs__msg__PoseWithCovariance(pose=ge... -131.770184   \n",
       "3     geometry_msgs__msg__PoseWithCovariance(pose=ge... -131.770184   \n",
       "4     geometry_msgs__msg__PoseWithCovariance(pose=ge... -131.749999   \n",
       "...                                                 ...         ...   \n",
       "6263  geometry_msgs__msg__PoseWithCovariance(pose=ge...  848.404652   \n",
       "6264  geometry_msgs__msg__PoseWithCovariance(pose=ge...  848.404652   \n",
       "6265  geometry_msgs__msg__PoseWithCovariance(pose=ge...  862.287169   \n",
       "6266  geometry_msgs__msg__PoseWithCovariance(pose=ge...  862.287169   \n",
       "6267  geometry_msgs__msg__PoseWithCovariance(pose=ge...  879.918687   \n",
       "\n",
       "                y           z  \n",
       "0       63.606814   96.984019  \n",
       "1       63.616275   96.997350  \n",
       "2       63.616275   96.997350  \n",
       "3       63.616275   96.997350  \n",
       "4       63.571729   96.980551  \n",
       "...           ...         ...  \n",
       "6263 -3746.345416 -809.062337  \n",
       "6264 -3746.345416 -809.062337  \n",
       "6265 -3769.620552 -817.115998  \n",
       "6266 -3769.620552 -817.115998  \n",
       "6267 -3799.664205 -827.436665  \n",
       "\n",
       "[6268 rows x 4 columns]"
      ]
     },
     "execution_count": 18,
     "metadata": {},
     "output_type": "execute_result"
    }
   ],
   "source": [
    "# bag_files = ['waterlinked_dvl_05132025_1250']  # List of ROS bag files\n",
    "# bag_files = ['waterlinked_dvl_05132025_1304']  # List of ROS bag files\n",
    "bag_files = ['waterlinked_dvl_05132025_1307']  # List of ROS bag files\n",
    "\n",
    "topic2 = '/waterlinked_dvl_driver/odom'  # Topic to extract data from\n",
    "fields2 = ['pose']  # List of fields to extract from the message\n",
    "\n",
    "dataframe2 = extract_data_from_bag(bag_files, topic2, fields2)\n",
    "\n",
    "def extract_position(pose_with_cov):\n",
    "    pos = pose_with_cov.pose.position\n",
    "    return pd.Series({'x': pos.x, 'y': pos.y, 'z': pos.z})\n",
    "\n",
    "# Apply to all rows\n",
    "position_df = dataframe2['pose'].apply(extract_position)\n",
    "\n",
    "# Merge with original dataframe (optional)\n",
    "dataframe2 = pd.concat([dataframe2, position_df], axis=1)\n",
    "\n",
    "# ✅ Visualize as a DataFrame\n",
    "dataframe2"
   ]
  },
  {
   "cell_type": "code",
   "execution_count": 19,
   "id": "46bc24a0",
   "metadata": {},
   "outputs": [
    {
     "data": {
      "image/png": "[encoded data removed]",
      "text/plain": [
       "<Figure size 800x600 with 1 Axes>"
      ]
     },
     "metadata": {},
     "output_type": "display_data"
    }
   ],
   "source": [
    "import matplotlib.pyplot as plt\n",
    "from mpl_toolkits.mplot3d import Axes3D\n",
    "\n",
    "fig = plt.figure(figsize=(8, 6))\n",
    "ax = fig.add_subplot(111, projection='3d')\n",
    "\n",
    "ax.plot(position_df['x'], position_df['y'], position_df['z'], label='ROV Path')\n",
    "ax.scatter(position_df['x'].iloc[0], position_df['y'].iloc[0], position_df['z'].iloc[0], color='green', label='Start')\n",
    "ax.scatter(position_df['x'].iloc[-1], position_df['y'].iloc[-1], position_df['z'].iloc[-1], color='red', label='End')\n",
    "\n",
    "ax.set_xlabel('X')\n",
    "ax.set_ylabel('Y')\n",
    "ax.set_zlabel('Z')\n",
    "ax.set_title('ROV 3D Trajectory')\n",
    "ax.legend()\n",
    "\n",
    "plt.savefig(f'figures/{bag_files[0]}.png')\n",
    "\n",
    "plt.show()\n"
   ]
  }
 ],
 "metadata": {
  "kernelspec": {
   "display_name": "ros_visuals",
   "language": "python",
   "name": "python3"
  },
  "language_info": {
   "codemirror_mode": {
    "name": "ipython",
    "version": 3
   },
   "file_extension": ".py",
   "mimetype": "text/x-python",
   "name": "python",
   "nbconvert_exporter": "python",
   "pygments_lexer": "ipython3",
   "version": "3.10.17"
  }
 },
 "nbformat": 4,
 "nbformat_minor": 5
}
